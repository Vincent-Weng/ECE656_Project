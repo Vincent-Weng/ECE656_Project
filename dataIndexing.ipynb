{
 "cells": [
  {
   "cell_type": "markdown",
   "metadata": {},
   "source": [
    "## Part I 1.3 Data Indexing\n",
    "To allow for faster queries additional indices were added to some tables in the database. This includes:\n",
    "* adding one to the year column in the table elite_years to speed up query_6\n",
    "  * create index idx_year on elite_years(year)\n",
    "* adding one to the yelping_since column in the user table\n",
    "  * create index idx_yelping_since on user(yelping_since)\n",
    "* creating new columns in the hours table to split the hours column into date, opening_time and closing_time and creating an index for each of these\n",
    "  * create index idx_day_of_week on hours(day_of_week)\n",
    "* creating new columns in the checkin table to split the date column into date_of_week and time and creating an index for each of these\n",
    "  * create index idx_day_of_week on hours(day_of_week)\n",
    "* creating new columns in the review table to split the date column into year, month, day columns and scrapping the time because its always 00:00:00\n",
    "  * select count(*) from review where substring_index(date, ' ', -1) != '00:00:00'; #returns 0"
   ]
  },
  {
   "cell_type": "code",
   "execution_count": 1,
   "metadata": {},
   "outputs": [],
   "source": [
    "\"\"\"Global functions and variables\"\"\"\n",
    "\n",
    "import pymysql\n",
    "\n",
    "def open_conn():\n",
    "    \"\"\"open the connection before each test case\"\"\"\n",
    "    conn = pymysql.connect(user='public', password='ece656yelp',\n",
    "                                   host='maindb.czbva1am4d4u.us-east-2.rds.amazonaws.com',\n",
    "                                   database='yelp_db')\n",
    "    return conn\n",
    "\n",
    "def close_conn(conn):\n",
    "    \"\"\"close the connection after each test case\"\"\"\n",
    "    conn.close()\n",
    "\n",
    "def executeQuery(conn, query, commit=False):\n",
    "    \"\"\" fetch result after query\"\"\"\n",
    "    cursor = conn.cursor()\n",
    "    query_num = query.count(\";\")\n",
    "    if query_num > 1:\n",
    "        for result in cursor.execute(query, params=None, multi=True):\n",
    "            if result.with_rows:\n",
    "                result = result.fetchall()\n",
    "    else:\n",
    "        cursor.execute(query)\n",
    "        result = cursor.fetchall()\n",
    "    # we commit the results only if we want the updates to Can't leave a review dated before account creationthe database\n",
    "    # to persist.\n",
    "    if commit:\n",
    "        conn.commit()\n",
    "    else:\n",
    "        conn.rollback()\n",
    "    # close the cursor used to execute the query\n",
    "    cursor.close()\n",
    "    return result\n",
    "\n",
    "yelp_conn = open_conn()"
   ]
  },
  {
   "cell_type": "code",
   "execution_count": null,
   "metadata": {},
   "outputs": [],
   "source": []
  }
 ],
 "metadata": {
  "kernelspec": {
   "display_name": "Python 3",
   "language": "python",
   "name": "python3"
  },
  "language_info": {
   "codemirror_mode": {
    "name": "ipython",
    "version": 3
   },
   "file_extension": ".py",
   "mimetype": "text/x-python",
   "name": "python",
   "nbconvert_exporter": "python",
   "pygments_lexer": "ipython3",
   "version": "3.6.4"
  }
 },
 "nbformat": 4,
 "nbformat_minor": 2
}
