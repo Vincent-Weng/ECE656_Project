{
 "cells": [
  {
   "cell_type": "code",
   "execution_count": 1,
   "metadata": {},
   "outputs": [],
   "source": [
    "\"\"\"Display settings\"\"\"\n",
    "from IPython.display import HTML, display\n",
    "\n",
    "\n",
    "\"\"\"MySQL connection related functions and variables\"\"\"\n",
    "\n",
    "import pymysql\n",
    "\n",
    "def open_conn():\n",
    "    \"\"\"open the connection before each test case\"\"\"\n",
    "    conn = pymysql.connect(user='public', password='ece656yelp',\n",
    "                                   host='maindb.czbva1am4d4u.us-east-2.rds.amazonaws.com',\n",
    "                                   database='yelp_db')\n",
    "    return conn\n",
    "\n",
    "def close_conn(conn):\n",
    "    \"\"\"close the connection after each test case\"\"\"\n",
    "    conn.close()\n",
    "\n",
    "def executeQuery(conn, query, commit=False, returnResult=True):\n",
    "    \"\"\" fetch result after query\"\"\"\n",
    "    cursor = conn.cursor()\n",
    "    query_num = query.count(\";\")\n",
    "    if query_num > 1:\n",
    "        if not returnResult:\n",
    "            cursor.execute(query)\n",
    "            return\n",
    "        else:\n",
    "            for result in cursor.execute(query, params=None, multi=True):\n",
    "                if result.with_rows:\n",
    "                    result = result.fetchall()\n",
    "    else:\n",
    "        cursor.execute(query)\n",
    "        result = cursor.fetchall()\n",
    "    # we commit the results only if we want the updates to the database\n",
    "    # to persist.\n",
    "    if commit:\n",
    "        conn.commit()\n",
    "    else:\n",
    "        conn.rollback()\n",
    "    # close the cursor used to execute the query\n",
    "    cursor.close()\n",
    "    return result\n",
    "\n",
    "yelp_conn = open_conn()"
   ]
  },
  {
   "cell_type": "code",
   "execution_count": 6,
   "metadata": {},
   "outputs": [
    {
     "name": "stdout",
     "output_type": "stream",
     "text": [
      "CPU times: user 3.07 ms, sys: 0 ns, total: 3.07 ms\n",
      "Wall time: 2.58 s\n"
     ]
    }
   ],
   "source": [
    "query_1 = \"SELECT id, date FROM review WHERE unix_timestamp(date) <= unix_timestamp('2004-10-01')\\\n",
    "           OR unix_timestamp(date) >= unix_timestamp('2018-01-01');\"\n",
    "\n",
    "%time result_1 = executeQuery(yelp_conn, query_1)\n",
    "\n",
    "#result_1: \"15.292s, returns [('03B9-gqbeGoMmPJbNzNT5w', '2004-09-15 00:00:00'),('PbIY2aIyszb6he6J-ey67w', '2004-07-22 00:00:00'\n",
    "#)]\""
   ]
  },
  {
   "cell_type": "code",
   "execution_count": 8,
   "metadata": {},
   "outputs": [
    {
     "name": "stdout",
     "output_type": "stream",
     "text": [
      "CPU times: user 4.61 ms, sys: 3.2 ms, total: 7.8 ms\n",
      "Wall time: 11.1 s\n"
     ]
    }
   ],
   "source": [
    "query_2 =  \"SELECT user.id FROM (user INNER JOIN review ON user.id = review.user_id)\\\n",
    "            WHERE user.yelping_since > review.date GROUP BY user.id;\"\n",
    "\n",
    "%time result_2 = executeQuery(yelp_conn, query_2)\n",
    "\n",
    "#result_2: 'Too long, >5min'"
   ]
  },
  {
   "cell_type": "code",
   "execution_count": 2,
   "metadata": {},
   "outputs": [
    {
     "name": "stdout",
     "output_type": "stream",
     "text": [
      "CPU times: user 2.08 ms, sys: 0 ns, total: 2.08 ms\n",
      "Wall time: 262 ms\n"
     ]
    }
   ],
   "source": [
    "query_3 =  \"SELECT user.id FROM (user INNER JOIN elite_years ON user.id = elite_years.user_id)\\\n",
    "            WHERE YEAR(user.yelping_since) > elite_years.year GROUP BY user.id;\"\n",
    "%time result_3 = executeQuery(yelp_conn, query_3)\n",
    "\n",
    "#result_3: 'Too long, >5min'"
   ]
  },
  {
   "cell_type": "code",
   "execution_count": null,
   "metadata": {},
   "outputs": [],
   "source": [
    "query_4 = \"SELECT COUNT(*) FROM checkin JOIN (SELECT hours.business_id, SUBSTRING_INDEX(hours, '|', 1)\\\n",
    "           AS day_of_week, SUBSTRING_INDEX(SUBSTRING_INDEX(hours, '|', - 1), '-', 1) AS opening_time,\\\n",
    "           SUBSTRING_INDEX(SUBSTRING_INDEX(hours, '|', - 1), '-', - 1) AS closing_time FROM hours)\\\n",
    "           AS a ON a.business_id = checkin.business_id\\\n",
    "           AND a.day_of_week = SUBSTRING_INDEX(checkin.date, '-', 1)\\\n",
    "           WHERE a.opening_time > SUBSTRING_INDEX(checkin.date, '-', - 1)\\\n",
    "           AND a.closing_time < SUBSTRING_INDEX(checkin.date, '-', - 1);\"\n",
    "%time result_4 = executeQuery(yelp_conn, query_4)\n",
    "\n",
    "#result_4: 'Too long for both, >5min, need to create and index the new columns instead'"
   ]
  },
  {
   "cell_type": "code",
   "execution_count": 3,
   "metadata": {},
   "outputs": [
    {
     "name": "stdout",
     "output_type": "stream",
     "text": [
      "CPU times: user 4.56 ms, sys: 687 µs, total: 5.24 ms\n",
      "Wall time: 1min 3s\n"
     ]
    }
   ],
   "source": [
    "query_5 = \"select count(*) from user join (select count(user_id) as countedReviews, user_id from\\\n",
    "           review group by user_id) as a on a.user_id = user.id where a.countedReviews > review_count;\"\n",
    "%time result_5 = executeQuery(yelp_conn, query_5)\n",
    "\n",
    "#result_5: 'Too long, >5min'"
   ]
  },
  {
   "cell_type": "code",
   "execution_count": 5,
   "metadata": {},
   "outputs": [],
   "source": [
    "query_6 = \"select count(*) from elite_years join \\\n",
    "           (SELECT user_id, SUBSTRING_INDEX(date, '-', 1) AS year FROM review) \\\n",
    "           as a on a.user_id=elite_years.user_id and a.year = elite_years.year \\\n",
    "           group by elite_years.user_id, elite_years.year;\"\n",
    "%time result_6 = executeQuery(yelp_conn, query_6)\n",
    "\n",
    "#result_6: 'Too long, >5min'"
   ]
  },
  {
   "cell_type": "code",
   "execution_count": null,
   "metadata": {},
   "outputs": [],
   "source": [
    "query_7 = \"create table hours_new(\\\n",
    "\tid int(11) not null auto_increment, primary key (id)\\\n",
    "    ,business_id varchar(255)\\\n",
    "    ,day_of_week varchar(9)\\\n",
    "    ,opening_time time\\\n",
    "    ,closing_time time\\\n",
    "    );\\\n",
    "    drop procedure if exists dowhile_hours;\\\n",
    "    delimiter //\\\n",
    "    create procedure dowhile_hours ()\\\n",
    "    begin declare v1 int default 821044;\\\n",
    "    while v1 > 0 do\\\n",
    "    insert into hours_new(id) values (null);\\\n",
    "    set v1 = v1 - 1;\\\n",
    "    end while;\\\n",
    "    end//\\\n",
    "    delimiter ;\\\n",
    "    call dowhile_hours();\\\n",
    "    update hours_new set day_of_week = (\\\n",
    "        select SUBSTRING_INDEX(hours, '|', 1) from hours where hours_new.id = hours.id);\\\n",
    "    update hours_new set opening_time = (\\\n",
    "        select SUBSTRING_INDEX(SUBSTRING_INDEX(hours, '|', - 1), '-', 1) from hours where hours_new.id = hours.id);\\\n",
    "    update hours_new set closing_time = (\\\n",
    "        select SUBSTRING_INDEX(SUBSTRING_INDEX(hours, '|', - 1), '-', - 1) from hours where hours_new.id = hours.id);\\\n",
    "    update hours_new set business_id = (\\\n",
    "        select business_id from hours where hours_new.id = hours.id);\"\n",
    "![hours_new_with_index](../../pythonAnalysis/figures/hours_new_with_index.png)"
   ]
  },
  {
   "cell_type": "code",
   "execution_count": null,
   "metadata": {},
   "outputs": [],
   "source": [
    "query_8 = \"create index idx_day_of_week on hours_new(day_of_week);\\\n",
    "create index idx_opening_time on hours_new(opening_time);\\\n",
    "create index idx_closing_time on hours_new(closing_time);\"\n",
    "![hours_new_with_index](../../pythonAnalysis/figures/hours_new_indexes_with_index.png)"
   ]
  },
  {
   "cell_type": "code",
   "execution_count": null,
   "metadata": {},
   "outputs": [],
   "source": [
    "query_9 = \"create table checkin_new(\\\n",
    "\tid int(11) not null auto_increment, primary key (id)\\\n",
    "    ,business_id varchar(255)\\\n",
    "    ,day_of_week varchar(9)\\\n",
    "    ,checkin_time time\\\n",
    "    );\\\n",
    "    drop procedure if exists dowhile_checkin;\\\n",
    "    delimiter //\\\n",
    "    create procedure dowhile_hours ()\\\n",
    "    begin declare v1 int default 3891600;\\\n",
    "    while v1 > 0 do\\\n",
    "    insert into checkin_new(id) values (null);\\\n",
    "    set v1 = v1 - 1;\\\n",
    "    end while;\\\n",
    "    end//\\\n",
    "    delimiter ;\\\n",
    "    call dowhile_checkin();\\\n",
    "    update checkin_new set day_of_week = (\\\n",
    "        select SUBSTRING_INDEX(date, '-', 1) from checkin where checkin_new.id = checkin.id);\\\n",
    "    update checkin_new set checkin_time = (\\\n",
    "        select SUBSTRING_INDEX(date, '-', -1) from checkin where checkin_new.id = checkin.id);\\\n",
    "    update checkin_new set business_id = (\\\n",
    "        select business_id from checkin where checkin_new.id = checkin.id);\"\n",
    "![hours_new_with_index](../../pythonAnalysis/figures/checkin_new_with_index.png)"
   ]
  },
  {
   "cell_type": "code",
   "execution_count": null,
   "metadata": {},
   "outputs": [],
   "source": [
    "query_8 = \"create index idx_day_of_week on checkin_new(day_of_week);\\\n",
    "create index idx_opening_time on checkin_new(checkin_time);\"\n",
    "![hours_new_with_index](../../pythonAnalysis/figures/checkin_new_indexes_with_index.png)"
   ]
  }
 ],
 "metadata": {
  "kernelspec": {
   "display_name": "Python 3",
   "language": "python",
   "name": "python3"
  },
  "language_info": {
   "codemirror_mode": {
    "name": "ipython",
    "version": 3
   },
   "file_extension": ".py",
   "mimetype": "text/x-python",
   "name": "python",
   "nbconvert_exporter": "python",
   "pygments_lexer": "ipython3",
   "version": "3.5.2"
  }
 },
 "nbformat": 4,
 "nbformat_minor": 2
}
