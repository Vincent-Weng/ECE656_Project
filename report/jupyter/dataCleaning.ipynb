{
 "cells": [
  {
   "cell_type": "markdown",
   "metadata": {},
   "source": [
    "## Part I - 1.2 Data cleaning"
   ]
  },
  {
   "cell_type": "code",
   "execution_count": 1,
   "metadata": {},
   "outputs": [],
   "source": [
    "\"\"\"Display settings\"\"\"\n",
    "from IPython.display import HTML, display\n",
    "import tabulate\n",
    "\n",
    "# optional `heading` arg. If provided it will be added to the first row as the table heading.\n",
    "def displayResult(queryResult, heading=()):\n",
    "    if heading != ():\n",
    "        resultList = (heading,) + queryResult\n",
    "        display(HTML(tabulate.tabulate([result for result in resultList], tablefmt='html')))\n",
    "    else:\n",
    "        display(HTML(tabulate.tabulate([result for result in queryResult], tablefmt='html')))\n",
    "\n",
    "\"\"\"MySQL connection related functions and variables\"\"\"\n",
    "\n",
    "import pymysql\n",
    "\n",
    "def open_conn():\n",
    "    \"\"\"open the connection before each test case\"\"\"\n",
    "    conn = pymysql.connect(user='public', password='ece656yelp',\n",
    "                                   host='maindb.czbva1am4d4u.us-east-2.rds.amazonaws.com',\n",
    "                                   database='yelp_db')\n",
    "    return conn\n",
    "\n",
    "def close_conn(conn):\n",
    "    \"\"\"close the connection after each test case\"\"\"\n",
    "    conn.close()\n",
    "\n",
    "def executeQuery(conn, query, commit=False):\n",
    "    \"\"\" fetch result after query\"\"\"\n",
    "    cursor = conn.cursor()\n",
    "    query_num = query.count(\";\")\n",
    "    if query_num > 1:\n",
    "        for result in cursor.execute(query, params=None, multi=True):\n",
    "            if result.with_rows:\n",
    "                result = result.fetchall()\n",
    "    else:\n",
    "        cursor.execute(query)\n",
    "        result = cursor.fetchall()\n",
    "    # we commit the results only if we want the updates to the database\n",
    "    # to persist.\n",
    "    if commit:\n",
    "        conn.commit()\n",
    "    else:\n",
    "        conn.rollback()\n",
    "    # close the cursor used to execute the query\n",
    "    cursor.close()\n",
    "    return result\n",
    "\n",
    "yelp_conn = open_conn()"
   ]
  },
  {
   "cell_type": "markdown",
   "metadata": {},
   "source": [
    "#### 1. Check that no review is from the future or before Yelp's founding"
   ]
  },
  {
   "cell_type": "code",
   "execution_count": 2,
   "metadata": {},
   "outputs": [
    {
     "data": {
      "text/plain": [
       "()"
      ]
     },
     "execution_count": 2,
     "metadata": {},
     "output_type": "execute_result"
    }
   ],
   "source": [
    "query_1 = \"SELECT id, date FROM review WHERE unix_timestamp(date) <= unix_timestamp('2004-10-01')\\\n",
    "           OR unix_timestamp(date) >= unix_timestamp('2018-01-01');\"\n",
    "\n",
    "result_1 = executeQuery(yelp_conn, query_1)\n",
    "\n",
    "result_1"
   ]
  },
  {
   "cell_type": "markdown",
   "metadata": {},
   "source": [
    "This shows 2 accounts that were created before Yelp's founding in October 2004.\n",
    "\n",
    "This query deletes them:"
   ]
  },
  {
   "cell_type": "code",
   "execution_count": 3,
   "metadata": {},
   "outputs": [],
   "source": [
    "# clean_1 = \"DELETE FROM review WHERE unix_timestamp(date) <= unix_timestamp('2004-10-01')\\\n",
    "#            OR unix_timestamp(date) >= unix_timestamp('2018-01-01');\"\n",
    "\n",
    "# executeQuery(yelp_conn, clean_1)"
   ]
  },
  {
   "cell_type": "markdown",
   "metadata": {},
   "source": [
    "#### 2. Can't leave a review dated before account creation"
   ]
  },
  {
   "cell_type": "code",
   "execution_count": 4,
   "metadata": {},
   "outputs": [],
   "source": [
    "query_2 =  \"SELECT user.id, user.yelping_since AS Date_started_yelping, review.date AS Date_of_Review\\\n",
    "            FROM (user INNER JOIN review ON user.id = review.user_id)\\\n",
    "            WHERE user.yelping_since > review.date\\\n",
    "            GROUP BY user.id;\"\n",
    "\n",
    "result_2 = executeQuery(yelp_conn, query_2)"
   ]
  },
  {
   "cell_type": "code",
   "execution_count": 5,
   "metadata": {},
   "outputs": [
    {
     "data": {
      "text/plain": [
       "0"
      ]
     },
     "execution_count": 5,
     "metadata": {},
     "output_type": "execute_result"
    }
   ],
   "source": [
    "len(result_2)"
   ]
  },
  {
   "cell_type": "markdown",
   "metadata": {},
   "source": [
    "This means these users somehow posted a review before their account was created, suggesting a glitch with their database."
   ]
  },
  {
   "cell_type": "code",
   "execution_count": 6,
   "metadata": {},
   "outputs": [
    {
     "data": {
      "text/html": [
       "<table>\n",
       "<tbody>\n",
       "<tr><td>user.id</td><td>user.yelping_since</td><td>review.date</td></tr>\n",
       "</tbody>\n",
       "</table>"
      ],
      "text/plain": [
       "<IPython.core.display.HTML object>"
      ]
     },
     "metadata": {},
     "output_type": "display_data"
    }
   ],
   "source": [
    "heading_2 = (\"user.id\", \"user.yelping_since\", \"review.date\")\n",
    "displayResult(result_2[:20], heading_2)"
   ]
  },
  {
   "cell_type": "markdown",
   "metadata": {},
   "source": [
    "This query deletes illegal reviews:"
   ]
  },
  {
   "cell_type": "code",
   "execution_count": 7,
   "metadata": {},
   "outputs": [],
   "source": [
    "# clean_2 =  \"DELETE FROM review WHERE id in\\ \n",
    "#             (SELECT review.id FROM (user INNER JOIN review ON user.id = review.user_id)\\\n",
    "#             WHERE user.yelping_since > review.date\\\n",
    "#             GROUP BY user.id);\"\n",
    "\n",
    "# executeQuery(yelp_conn, clean_2)"
   ]
  },
  {
   "cell_type": "markdown",
   "metadata": {},
   "source": [
    "#### 3. Can't be elite in a year before their account was made"
   ]
  },
  {
   "cell_type": "code",
   "execution_count": 8,
   "metadata": {},
   "outputs": [],
   "source": [
    "query_3 =  \"SELECT user.id, user.yelping_since AS Date_of_yelping, elite_years.year AS Year_of_Elite\\\n",
    "            FROM (user INNER JOIN elite_years ON user.id = elite_years.user_id)\\\n",
    "            WHERE YEAR(user.yelping_since) < elite_years.year\\\n",
    "            GROUP BY user.id;\"\n",
    "\n",
    "result_3 = executeQuery(yelp_conn, query_3)"
   ]
  },
  {
   "cell_type": "code",
   "execution_count": 9,
   "metadata": {},
   "outputs": [
    {
     "data": {
      "text/plain": [
       "55493"
      ]
     },
     "execution_count": 9,
     "metadata": {},
     "output_type": "execute_result"
    }
   ],
   "source": [
    "len(result_3)"
   ]
  },
  {
   "cell_type": "code",
   "execution_count": 10,
   "metadata": {},
   "outputs": [
    {
     "data": {
      "text/html": [
       "<table>\n",
       "<tbody>\n",
       "<tr><td>user.id               </td><td>user.yelping_since </td><td>elite_year.year</td></tr>\n",
       "<tr><td>---1lKK3aKOuomHnwAkAow</td><td>2007-06-04 00:00:00</td><td>2013           </td></tr>\n",
       "<tr><td>--2vR0DIsmQ6WfcSzKWigw</td><td>2012-11-27 00:00:00</td><td>2015           </td></tr>\n",
       "<tr><td>--3l8wysfp49Z2TLnyT0vg</td><td>2013-12-14 00:00:00</td><td>2016           </td></tr>\n",
       "<tr><td>--3WaS23LcIXtxyFULJHTA</td><td>2010-05-02 00:00:00</td><td>2013           </td></tr>\n",
       "<tr><td>--41c9Tl0C9OGewIR7Qyzg</td><td>2011-07-03 00:00:00</td><td>2012           </td></tr>\n",
       "<tr><td>--4q8EyqThydQm-eKZpS-A</td><td>2008-01-07 00:00:00</td><td>2010           </td></tr>\n",
       "<tr><td>--56mD0sm1eOogphi2FFLw</td><td>2010-12-16 00:00:00</td><td>2016           </td></tr>\n",
       "<tr><td>--A4pFATzQJx9n4l1IAC3A</td><td>2015-09-08 00:00:00</td><td>2017           </td></tr>\n",
       "<tr><td>--cPqjzKHqHKmGala65zwg</td><td>2012-03-20 00:00:00</td><td>2014           </td></tr>\n",
       "<tr><td>--kedvpjB1PT28X_gArafA</td><td>2008-08-01 00:00:00</td><td>2012           </td></tr>\n",
       "<tr><td>--KQJPdrU0Md97DiOliDzw</td><td>2006-01-17 00:00:00</td><td>2009           </td></tr>\n",
       "<tr><td>--mQ4S5h1tXzvE9VDYVwdQ</td><td>2009-08-11 00:00:00</td><td>2016           </td></tr>\n",
       "<tr><td>--Qh8yKWAvIP4V4K8ZPfHA</td><td>2011-01-19 00:00:00</td><td>2017           </td></tr>\n",
       "<tr><td>--u09WAjW741FdfkJXxNmg</td><td>2009-05-16 00:00:00</td><td>2017           </td></tr>\n",
       "<tr><td>--xdSgqUJmcvJot-3OIq0g</td><td>2008-08-02 00:00:00</td><td>2015           </td></tr>\n",
       "<tr><td>--YhjyV-ce1nFLYxP49C5A</td><td>2013-12-13 00:00:00</td><td>2017           </td></tr>\n",
       "<tr><td>--Yrq6JLmQNdbZkWJsHy5Q</td><td>2010-03-12 00:00:00</td><td>2011           </td></tr>\n",
       "<tr><td>--ZhEc-CDZZY1gYrbYoFyQ</td><td>2013-08-29 00:00:00</td><td>2015           </td></tr>\n",
       "<tr><td>--ZNfWKj1VyVElRx6-g1fg</td><td>2010-07-28 00:00:00</td><td>2013           </td></tr>\n",
       "<tr><td>--_H9j6ggxvqhh9nPofZwg</td><td>2014-06-27 00:00:00</td><td>2017           </td></tr>\n",
       "</tbody>\n",
       "</table>"
      ],
      "text/plain": [
       "<IPython.core.display.HTML object>"
      ]
     },
     "metadata": {},
     "output_type": "display_data"
    }
   ],
   "source": [
    "heading_3 = (\"user.id\", \"user.yelping_since\", \"elite_year.year\")\n",
    "displayResult(result_3[:20], heading_3)"
   ]
  },
  {
   "cell_type": "markdown",
   "metadata": {},
   "source": [
    "This query deletes their elite records:"
   ]
  },
  {
   "cell_type": "code",
   "execution_count": 11,
   "metadata": {},
   "outputs": [],
   "source": [
    "# clean_3 =  \"DELETE FROM elite_years\\\n",
    "#               where user_id in (SELECT user.id\\\n",
    "#               FROM (user INNER JOIN (SELECT * FROM elite_years) AS E ON user.id = E.user_id)\\\n",
    "#               WHERE YEAR(user.yelping_since) < E.year\\\n",
    "#               GROUP BY user.id);\"\n",
    "\n",
    "# executeQuery(yelp_conn, clean_3)"
   ]
  },
  {
   "cell_type": "markdown",
   "metadata": {},
   "source": [
    "#### 4. Can't checkin outside open hours"
   ]
  },
  {
   "cell_type": "code",
   "execution_count": 12,
   "metadata": {},
   "outputs": [
    {
     "data": {
      "text/plain": [
       "(480488,)"
      ]
     },
     "execution_count": 12,
     "metadata": {},
     "output_type": "execute_result"
    }
   ],
   "source": [
    "query_4 = \"SELECT COUNT(*) FROM checkin JOIN (SELECT hours.business_id, SUBSTRING_INDEX(hours, '|', 1)\\\n",
    "           AS day_of_week, SUBSTRING_INDEX(SUBSTRING_INDEX(hours, '|', - 1), '-', 1) AS opening_time,\\\n",
    "           SUBSTRING_INDEX(SUBSTRING_INDEX(hours, '|', - 1), '-', - 1) AS closing_time FROM hours)\\\n",
    "           AS a ON a.business_id = checkin.business_id\\\n",
    "           AND a.day_of_week = SUBSTRING_INDEX(checkin.date, '-', 1)\\\n",
    "           WHERE a.opening_time > SUBSTRING_INDEX(checkin.date, '-', - 1)\\\n",
    "           AND a.closing_time < SUBSTRING_INDEX(checkin.date, '-', - 1);\"\n",
    "result_4 = executeQuery(yelp_conn, query_4)\n",
    "result_4[0]"
   ]
  },
  {
   "cell_type": "markdown",
   "metadata": {},
   "source": [
    "This shows that there are many check ins that occur outside of the businesses open hours which are potentially invalid checkins, but this is not a guarantee because it is possible that the business changed their hours of operation at some point after someone checked in, resulting in the discrepency. \n",
    "\n",
    "This also shows the need within the database for the date column in the checkin and the hours column in the hours table to be normalized by splitting into date, opening time and closing time columns as this would save computation time having to perform substring_index computations on every row. No change is made to the database to correct this because it may sometimes happen since the business may change its open hours without updating that on yelp."
   ]
  },
  {
   "cell_type": "markdown",
   "metadata": {},
   "source": [
    "#### 5. `User.review_count` cannot be less than the sum of the number of reviews by a user"
   ]
  },
  {
   "cell_type": "code",
   "execution_count": 13,
   "metadata": {},
   "outputs": [
    {
     "name": "stdout",
     "output_type": "stream",
     "text": [
      "(0,)\n"
     ]
    }
   ],
   "source": [
    "query_5 = \"select count(*) from user join (select count(user_id) as countedReviews, user_id from\\\n",
    "           review group by user_id) as a on a.user_id = user.id where a.countedReviews > review_count;\"\n",
    "result_5 = executeQuery(yelp_conn, query_5)\n",
    "print(result_5[0])"
   ]
  },
  {
   "cell_type": "markdown",
   "metadata": {},
   "source": [
    "This shows that the way Yelp gets the review_count number is potentially flawed since it should never count there being less reviews than the number of reviews provided for each user, unless the dataset that it was acquiring the count from was out of date."
   ]
  },
  {
   "cell_type": "markdown",
   "metadata": {},
   "source": [
    "This query updates the incorrect review_count:"
   ]
  },
  {
   "cell_type": "code",
   "execution_count": 14,
   "metadata": {},
   "outputs": [],
   "source": [
    "# clean_5_1 = \"CREATE VIEW review_counts_for_users AS\\\n",
    "#              SELECT user_id, count(user_id) AS count\\\n",
    "#              FROM review GROUP BY user_id;\"\n",
    "\n",
    "# clean_5_2 = \"UPDATE user SET review_count = (SELECT count\\\n",
    "#              FROM review_counts_for_users WHERE id=user_id);\"\n",
    "\n",
    "# executeQuery(yelp_conn, clean_5_1)\n",
    "# executeQuery(yelp_conn, clean_5_2)"
   ]
  },
  {
   "cell_type": "markdown",
   "metadata": {},
   "source": [
    "#### 6. Cannot be Elite in an invalid year\n",
    "Invalid years include ones before 2004, years in the future or years they didn't post a review, tip or photo."
   ]
  },
  {
   "cell_type": "code",
   "execution_count": 15,
   "metadata": {},
   "outputs": [
    {
     "name": "stdout",
     "output_type": "stream",
     "text": [
      "(37,)\n"
     ]
    }
   ],
   "source": [
    "query_6 = \"select count(*) from elite_years join \\\n",
    "           (SELECT user_id, SUBSTRING_INDEX(date, '-', 1) AS year FROM review) \\\n",
    "           as a on a.user_id=elite_years.user_id and a.year = elite_years.year \\\n",
    "           group by elite_years.user_id, elite_years.year;\"\n",
    "result_6 = executeQuery(yelp_conn, query_6)\n",
    "print(result_6[0])"
   ]
  },
  {
   "cell_type": "markdown",
   "metadata": {},
   "source": [
    "In total there are 186900 entries in elite_years. 37 appear to be erroneous. This query deletes these incorrect elite records:"
   ]
  },
  {
   "cell_type": "code",
   "execution_count": 16,
   "metadata": {},
   "outputs": [],
   "source": [
    "# clean_6 = \"DELETE FROM elite_years where user_id in \n",
    "#              (select E.user_id from (SELECT * FROM elite_years) AS E join\\\n",
    "#              (SELECT user_id, SUBSTRING_INDEX(date, '-', 1) AS year FROM review)\\\n",
    "#              as a on a.user_id=E.user_id and a.year = E.year\\\n",
    "#              group by E.user_id, E.year);\"\n",
    "# executeQuery(yelp_conn, clean_6)"
   ]
  }
 ],
 "metadata": {
  "kernelspec": {
   "display_name": "Python 3",
   "language": "python",
   "name": "python3"
  },
  "language_info": {
   "codemirror_mode": {
    "name": "ipython",
    "version": 3
   },
   "file_extension": ".py",
   "mimetype": "text/x-python",
   "name": "python",
   "nbconvert_exporter": "python",
   "pygments_lexer": "ipython3",
   "version": "3.6.4"
  }
 },
 "nbformat": 4,
 "nbformat_minor": 2
}
