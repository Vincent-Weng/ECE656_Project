{
 "cells": [
  {
   "cell_type": "code",
   "execution_count": 2,
   "metadata": {},
   "outputs": [],
   "source": [
    "\"\"\"Global functions and variables\"\"\"\n",
    "\n",
    "import pymysql\n",
    "\n",
    "def open_conn():\n",
    "    \"\"\"open the connection before each test case\"\"\"\n",
    "    conn = pymysql.connect(user='public', password='ece656yelp',\n",
    "                                   host='maindb.czbva1am4d4u.us-east-2.rds.amazonaws.com',\n",
    "                                   database='yelp_db')\n",
    "    return conn\n",
    "\n",
    "def close_conn(conn):\n",
    "    \"\"\"close the connection after each test case\"\"\"\n",
    "    conn.close()\n",
    "\n",
    "def executeQuery(conn, query, commit=False):\n",
    "    \"\"\" fetch result after query\"\"\"\n",
    "    cursor = conn.cursor()\n",
    "    query_num = query.count(\";\")\n",
    "    if query_num > 1:\n",
    "        for result in cursor.execute(query, params=None, multi=True):\n",
    "            if result.with_rows:\n",
    "                result = result.fetchall()\n",
    "    else:\n",
    "        cursor.execute(query)\n",
    "        result = cursor.fetchall()\n",
    "    # we commit the results only if we want the updates to Can't leave a review dated before account creationthe database\n",
    "    # to persist.\n",
    "    if commit:\n",
    "        conn.commit()\n",
    "    else:\n",
    "        conn.rollback()\n",
    "    # close the cursor used to execute the query\n",
    "    cursor.close()\n",
    "    return result\n",
    "\n",
    "yelp_conn = open_conn()"
   ]
  },
  {
   "cell_type": "markdown",
   "metadata": {},
   "source": [
    "## Part I. Data cleaning"
   ]
  },
  {
   "cell_type": "markdown",
   "metadata": {},
   "source": [
    "#### 1. Check that no review is from the future or before Yelp's founding\n",
    "FINISHED.\n",
    "Result: No such reviews."
   ]
  },
  {
   "cell_type": "code",
   "execution_count": 9,
   "metadata": {},
   "outputs": [
    {
     "data": {
      "text/plain": [
       "()"
      ]
     },
     "execution_count": 9,
     "metadata": {},
     "output_type": "execute_result"
    }
   ],
   "source": [
    "query_1 = \"SELECT * FROM review WHERE date <= '2004-07-01' OR date >= '2018-01-01'\";\n",
    "\n",
    "result_1 = executeQuery(yelp_conn, query_1)\n",
    "result_1"
   ]
  },
  {
   "cell_type": "markdown",
   "metadata": {},
   "source": [
    "#### 2. Can't leave a review dated before account creation"
   ]
  },
  {
   "cell_type": "code",
   "execution_count": 14,
   "metadata": {},
   "outputs": [],
   "source": [
    "query_2 =  \"SELECT user.id, user.yelping_since AS Date_of_yelping, review.date AS Date_of_Review\\\n",
    "            FROM (user INNER JOIN review ON user.id = review.user_id)\\\n",
    "            WHERE user.yelping_since < review.date\\\n",
    "            GROUP BY user.id;\"\n",
    "\n",
    "result_2 = executeQuery(yelp_conn, query_2)"
   ]
  },
  {
   "cell_type": "code",
   "execution_count": 19,
   "metadata": {},
   "outputs": [
    {
     "data": {
      "text/plain": [
       "1061718"
      ]
     },
     "execution_count": 19,
     "metadata": {},
     "output_type": "execute_result"
    }
   ],
   "source": [
    "len(result_2)"
   ]
  },
  {
   "cell_type": "markdown",
   "metadata": {},
   "source": [
    "This weird because the total count of users in `user` table is just 1183362."
   ]
  },
  {
   "cell_type": "code",
   "execution_count": 18,
   "metadata": {},
   "outputs": [
    {
     "name": "stdout",
     "output_type": "stream",
     "text": [
      "(('---1lKK3aKOuomHnwAkAow', datetime.datetime(2007, 6, 4, 0, 0), datetime.datetime(2012, 9, 7, 0, 0)), ('---94vtJ_5o_nikEs6hUjg', datetime.datetime(2016, 5, 27, 0, 0), datetime.datetime(2016, 8, 17, 0, 0)), ('---cu1hq55BP9DWVXXKHZg', datetime.datetime(2009, 4, 18, 0, 0), datetime.datetime(2014, 11, 19, 0, 0)), ('---fhiwiwBYrvqhpXgcWDQ', datetime.datetime(2011, 4, 20, 0, 0), datetime.datetime(2013, 5, 1, 0, 0)), ('---PLwSf5gKdIoVnyRHgBA', datetime.datetime(2015, 7, 31, 0, 0), datetime.datetime(2017, 2, 13, 0, 0)), ('---udAKDsn0yQXmzbWQNSw', datetime.datetime(2014, 7, 12, 0, 0), datetime.datetime(2017, 7, 14, 0, 0)), ('--0kuuLmuYBe3Rmu0Iycww', datetime.datetime(2010, 3, 8, 0, 0), datetime.datetime(2013, 9, 12, 0, 0)), ('--0RtXvcOIE4XbErYca6Rw', datetime.datetime(2013, 5, 30, 0, 0), datetime.datetime(2013, 8, 7, 0, 0)), ('--0sXNBv6IizZXuV-nl0Aw', datetime.datetime(2013, 1, 9, 0, 0), datetime.datetime(2016, 3, 12, 0, 0)), ('--0WZ5gklOfbUIodJuKfaQ', datetime.datetime(2013, 2, 19, 0, 0), datetime.datetime(2016, 8, 26, 0, 0)), ('--104qdWvE99vaoIsj9ZJQ', datetime.datetime(2016, 4, 26, 0, 0), datetime.datetime(2016, 8, 1, 0, 0)), ('--1av6NdbEbMiuBr7Aup9A', datetime.datetime(2010, 9, 26, 0, 0), datetime.datetime(2016, 6, 12, 0, 0)), ('--1mPJZdSY9KluaBYAGboQ', datetime.datetime(2011, 7, 4, 0, 0), datetime.datetime(2013, 9, 4, 0, 0)), ('--26jc8nCJBy4-7r3ZtmiQ', datetime.datetime(2014, 8, 3, 0, 0), datetime.datetime(2014, 12, 15, 0, 0)), ('--2bpE5vyR-2hAP7sZZ4lA', datetime.datetime(2015, 10, 12, 0, 0), datetime.datetime(2016, 10, 23, 0, 0)), ('--2HUmLkcNHZp0xw6AMBPg', datetime.datetime(2016, 7, 28, 0, 0), datetime.datetime(2017, 6, 17, 0, 0)), ('--2vR0DIsmQ6WfcSzKWigw', datetime.datetime(2012, 11, 27, 0, 0), datetime.datetime(2013, 6, 10, 0, 0)), ('--3B8LdT1NCD-bPkwS5-5g', datetime.datetime(2016, 11, 10, 0, 0), datetime.datetime(2017, 2, 7, 0, 0)), ('--3l8wysfp49Z2TLnyT0vg', datetime.datetime(2013, 12, 14, 0, 0), datetime.datetime(2014, 8, 13, 0, 0)), ('--3oMd6gjXpAzhjLBrsVCQ', datetime.datetime(2010, 3, 22, 0, 0), datetime.datetime(2010, 11, 7, 0, 0)), ('--3WaS23LcIXtxyFULJHTA', datetime.datetime(2010, 5, 2, 0, 0), datetime.datetime(2012, 12, 13, 0, 0)), ('--41c9Tl0C9OGewIR7Qyzg', datetime.datetime(2011, 7, 3, 0, 0), datetime.datetime(2011, 7, 4, 0, 0)), ('--44NNdtngXMzsxyN7ju6Q', datetime.datetime(2013, 1, 22, 0, 0), datetime.datetime(2017, 5, 16, 0, 0)), ('--4q8EyqThydQm-eKZpS-A', datetime.datetime(2008, 1, 7, 0, 0), datetime.datetime(2008, 1, 8, 0, 0)), ('--4rAAfZnEIAKJE80aIiYg', datetime.datetime(2013, 9, 14, 0, 0), datetime.datetime(2017, 3, 17, 0, 0)), ('--4ww39MLTS1SBRmCrSmww', datetime.datetime(2017, 4, 2, 0, 0), datetime.datetime(2017, 5, 3, 0, 0)), ('--56mD0sm1eOogphi2FFLw', datetime.datetime(2010, 12, 16, 0, 0), datetime.datetime(2016, 1, 21, 0, 0)), ('--56y1InAvNoQOD6YYrhVQ', datetime.datetime(2014, 9, 22, 0, 0), datetime.datetime(2016, 8, 3, 0, 0)), ('--5Dnq-kuMq5bqvlgDKORQ', datetime.datetime(2011, 1, 12, 0, 0), datetime.datetime(2014, 7, 23, 0, 0)), ('--5ihAtBE4kI5Gch9383qA', datetime.datetime(2009, 10, 20, 0, 0), datetime.datetime(2014, 6, 26, 0, 0)), ('--5XzJ2pRsVVJiJUfzZlgQ', datetime.datetime(2011, 5, 8, 0, 0), datetime.datetime(2014, 4, 10, 0, 0)), ('--66hzx80CeVZcrm4AKJtQ', datetime.datetime(2009, 5, 29, 0, 0), datetime.datetime(2013, 10, 6, 0, 0)), ('--6CV8BPNofy7jt1JavD-g', datetime.datetime(2011, 8, 29, 0, 0), datetime.datetime(2011, 9, 26, 0, 0)), ('--6D_IuxyKTN53pHi904ag', datetime.datetime(2013, 2, 6, 0, 0), datetime.datetime(2015, 3, 19, 0, 0)), ('--6Ke7_lBBM6XAramtPoWw', datetime.datetime(2009, 9, 12, 0, 0), datetime.datetime(2015, 6, 8, 0, 0)), ('--6kLBBsm0GPM9vIB2YBDw', datetime.datetime(2015, 12, 13, 0, 0), datetime.datetime(2016, 2, 5, 0, 0)), ('--6u02ZqjZRnwtX3t9bZtQ', datetime.datetime(2014, 5, 28, 0, 0), datetime.datetime(2015, 3, 7, 0, 0)), ('--6_wnx2sD1rqOQAQH96wg', datetime.datetime(2015, 5, 24, 0, 0), datetime.datetime(2017, 1, 28, 0, 0)), ('--7D3lFxyMYvs2JYiRrg6Q', datetime.datetime(2016, 4, 29, 0, 0), datetime.datetime(2016, 12, 4, 0, 0)), ('--7gjElmOrthETJ8XqzMBw', datetime.datetime(2014, 11, 16, 0, 0), datetime.datetime(2016, 8, 7, 0, 0)), ('--7NmCl2zZVnGdzVMd_3HQ', datetime.datetime(2014, 5, 23, 0, 0), datetime.datetime(2017, 3, 2, 0, 0)), ('--7v-c4xUhK-9CvrLzkeag', datetime.datetime(2014, 7, 23, 0, 0), datetime.datetime(2016, 11, 4, 0, 0)), ('--8ELb8W1afbyP21EZStPg', datetime.datetime(2011, 10, 25, 0, 0), datetime.datetime(2017, 6, 26, 0, 0)), ('--8EvC9O7Ycim8vCP4Cj0w', datetime.datetime(2014, 8, 14, 0, 0), datetime.datetime(2015, 5, 17, 0, 0)), ('--8g9UaBe0xQ4FD0q34h_A', datetime.datetime(2009, 4, 17, 0, 0), datetime.datetime(2009, 11, 26, 0, 0)), ('--8KXrwtbo2Szv6zakkzTQ', datetime.datetime(2014, 6, 28, 0, 0), datetime.datetime(2014, 9, 19, 0, 0)), ('--8NUFYnpU_Zu09TgcLevw', datetime.datetime(2013, 3, 10, 0, 0), datetime.datetime(2017, 7, 3, 0, 0)), ('--9hgcpqQPBbv0GFBQ4jsQ', datetime.datetime(2016, 6, 1, 0, 0), datetime.datetime(2017, 3, 9, 0, 0)), ('--9yZb1OLNN18HyDXgZrJA', datetime.datetime(2013, 6, 25, 0, 0), datetime.datetime(2015, 5, 11, 0, 0)), ('--A4pFATzQJx9n4l1IAC3A', datetime.datetime(2015, 9, 8, 0, 0), datetime.datetime(2017, 4, 18, 0, 0)), ('--agAy0vRYwG6WqbInorfg', datetime.datetime(2010, 7, 17, 0, 0), datetime.datetime(2014, 12, 25, 0, 0)), ('--Am1MOqeSVngNnIZU34RQ', datetime.datetime(2013, 7, 9, 0, 0), datetime.datetime(2016, 6, 21, 0, 0)), ('--amZ_cR9Zgu4B1RrAHJyA', datetime.datetime(2015, 11, 4, 0, 0), datetime.datetime(2015, 11, 17, 0, 0)), ('--AujbGl6SYRaY8SFVNHXA', datetime.datetime(2014, 2, 6, 0, 0), datetime.datetime(2017, 1, 6, 0, 0)), ('--Awhttr0FhVud5prVpVlA', datetime.datetime(2009, 5, 24, 0, 0), datetime.datetime(2014, 6, 3, 0, 0)), ('--B08Ekk4Y_4KFuF9MWdtw', datetime.datetime(2016, 7, 23, 0, 0), datetime.datetime(2016, 8, 13, 0, 0)), ('--B1_68kNRRoT9k61Qlu3g', datetime.datetime(2014, 4, 17, 0, 0), datetime.datetime(2015, 6, 1, 0, 0)), ('--BcADEfZ0GpBSmNo6GE7g', datetime.datetime(2012, 9, 23, 0, 0), datetime.datetime(2016, 7, 2, 0, 0)), ('--bk6oc1GSNnTZG-UakcfQ', datetime.datetime(2015, 12, 27, 0, 0), datetime.datetime(2016, 7, 21, 0, 0)), ('--Br-QsbO9ad5GbZxVGxaw', datetime.datetime(2015, 6, 10, 0, 0), datetime.datetime(2015, 8, 30, 0, 0)), ('--bUghK7FPTx7j6f_44U4g', datetime.datetime(2010, 5, 23, 0, 0), datetime.datetime(2014, 4, 18, 0, 0)), ('--BumyUHiO_7YsHurb9Hkw', datetime.datetime(2017, 1, 13, 0, 0), datetime.datetime(2017, 1, 30, 0, 0)), ('--bzLMRvwBo87e0Fb6ihUw', datetime.datetime(2012, 2, 20, 0, 0), datetime.datetime(2015, 1, 23, 0, 0)), ('--C5cBJscv6TNMpF_OSJnA', datetime.datetime(2016, 7, 30, 0, 0), datetime.datetime(2016, 8, 6, 0, 0)), ('--cAxfHMTBqYGmvkDNXK-g', datetime.datetime(2015, 4, 9, 0, 0), datetime.datetime(2015, 4, 24, 0, 0)), ('--cBKDfZ4AbM9U90VkFyBg', datetime.datetime(2012, 12, 26, 0, 0), datetime.datetime(2014, 8, 27, 0, 0)), ('--CH8yRGXhO2MmbF-4BWXg', datetime.datetime(2011, 7, 18, 0, 0), datetime.datetime(2015, 12, 11, 0, 0)), ('--ChzqcPs4YFWlw1jv92hQ', datetime.datetime(2014, 6, 27, 0, 0), datetime.datetime(2014, 7, 6, 0, 0)), ('--CIuK7sUpaNzalLAlHJKA', datetime.datetime(2011, 9, 6, 0, 0), datetime.datetime(2016, 1, 7, 0, 0)), ('--cm099C4P3-uk5s7DC7Ug', datetime.datetime(2016, 11, 30, 0, 0), datetime.datetime(2017, 3, 10, 0, 0)), ('--cO5bedOWodnt8UgamQNA', datetime.datetime(2011, 11, 11, 0, 0), datetime.datetime(2015, 8, 16, 0, 0)), ('--cPqjzKHqHKmGala65zwg', datetime.datetime(2012, 3, 20, 0, 0), datetime.datetime(2014, 7, 12, 0, 0)), ('--d2gPjSkSEQuhncWxs-kw', datetime.datetime(2016, 5, 8, 0, 0), datetime.datetime(2017, 3, 15, 0, 0)), ('--df41HLpRbMhMuViA9pFA', datetime.datetime(2015, 10, 4, 0, 0), datetime.datetime(2016, 11, 1, 0, 0)), ('--dhSVoOFDBiMCCwDmFccQ', datetime.datetime(2013, 1, 17, 0, 0), datetime.datetime(2016, 1, 17, 0, 0)), ('--DKDJlRHfsvufdGSk_Sdw', datetime.datetime(2016, 7, 25, 0, 0), datetime.datetime(2017, 1, 23, 0, 0)), ('--dt6KqbqXc3cIdPNTrhUQ', datetime.datetime(2016, 1, 5, 0, 0), datetime.datetime(2016, 1, 13, 0, 0)), ('--DxiDMQgN08E5gTM0aj7Q', datetime.datetime(2013, 7, 4, 0, 0), datetime.datetime(2013, 12, 13, 0, 0)), ('--e5MrN_xGOJc7NdiZUfcA', datetime.datetime(2008, 8, 12, 0, 0), datetime.datetime(2008, 9, 21, 0, 0)), ('--EeOyjMPIklMo8fN2GdWQ', datetime.datetime(2012, 2, 28, 0, 0), datetime.datetime(2016, 7, 26, 0, 0)), ('--EMqnd727rtC0G5Oc-Mrg', datetime.datetime(2008, 8, 5, 0, 0), datetime.datetime(2008, 9, 4, 0, 0)), ('--EPvMywZ-82a4uzxSwsfg', datetime.datetime(2012, 2, 28, 0, 0), datetime.datetime(2015, 7, 27, 0, 0)), ('--eQVss9nAx54FWsZHZgpA', datetime.datetime(2010, 5, 14, 0, 0), datetime.datetime(2011, 7, 8, 0, 0)), ('--ermiD_aia8aiptGGd7CQ', datetime.datetime(2008, 6, 21, 0, 0), datetime.datetime(2008, 8, 8, 0, 0)), ('--ERQVpqAAoi262TTbLVzQ', datetime.datetime(2011, 4, 2, 0, 0), datetime.datetime(2016, 6, 4, 0, 0)), ('--erV6Uzfa42Wk2nf4OIfg', datetime.datetime(2010, 6, 26, 0, 0), datetime.datetime(2014, 12, 15, 0, 0)), ('--ET3paBtrThD95dk72Cqg', datetime.datetime(2008, 5, 25, 0, 0), datetime.datetime(2011, 8, 13, 0, 0)), ('--EVSb3jbKVL3WJ5NUCuCA', datetime.datetime(2012, 3, 15, 0, 0), datetime.datetime(2015, 4, 3, 0, 0)), ('--eZ1yojDz5mzbYzXLW4WQ', datetime.datetime(2017, 3, 27, 0, 0), datetime.datetime(2017, 6, 12, 0, 0)), ('--E_9aMNd1pgJFxe-oJ1OQ', datetime.datetime(2011, 5, 6, 0, 0), datetime.datetime(2015, 2, 27, 0, 0)), ('--F1tbZdtqrqx_Uh8rFFBw', datetime.datetime(2014, 2, 19, 0, 0), datetime.datetime(2014, 7, 30, 0, 0)), ('--F69eR3LsY-6Wl_YlOGWw', datetime.datetime(2010, 8, 7, 0, 0), datetime.datetime(2017, 1, 9, 0, 0)), ('--fF-8O8ruMCIuP45IwVMQ', datetime.datetime(2013, 3, 7, 0, 0), datetime.datetime(2014, 12, 30, 0, 0)), ('--fFGOHU7mjZ670MkFJeFA', datetime.datetime(2012, 2, 22, 0, 0), datetime.datetime(2016, 9, 30, 0, 0)), ('--fF_pQlaU9sME-HLCoHlQ', datetime.datetime(2012, 5, 14, 0, 0), datetime.datetime(2017, 2, 15, 0, 0)), ('--FjmST55XwJ710qYlUTxA', datetime.datetime(2008, 4, 24, 0, 0), datetime.datetime(2009, 3, 25, 0, 0)), ('--FL8jpOVyPYGpyRN007vg', datetime.datetime(2014, 3, 12, 0, 0), datetime.datetime(2015, 4, 12, 0, 0)), ('--fpTdHQOGWGbAjk9SUyeA', datetime.datetime(2016, 3, 13, 0, 0), datetime.datetime(2016, 3, 22, 0, 0)), ('--FR2eTGLEzdLuGb57Tsfw', datetime.datetime(2015, 12, 6, 0, 0), datetime.datetime(2016, 12, 23, 0, 0)), ('--FtJYX8N228l3HPB7hkKQ', datetime.datetime(2007, 2, 5, 0, 0), datetime.datetime(2007, 10, 22, 0, 0)), ('--G23bgO-XEf0vtTbOwxtg', datetime.datetime(2008, 1, 3, 0, 0), datetime.datetime(2012, 10, 25, 0, 0)), ('--G7oWdtqbbbmNfe6efMdA', datetime.datetime(2016, 8, 6, 0, 0), datetime.datetime(2017, 3, 5, 0, 0)), ('--gc9Xg3MPKCy3BPt1g_1A', datetime.datetime(2013, 10, 29, 0, 0), datetime.datetime(2017, 7, 4, 0, 0)), ('--gFHlgNyKGY4QJT9pRKJA', datetime.datetime(2014, 10, 5, 0, 0), datetime.datetime(2016, 2, 24, 0, 0)), ('--gsZ16vkDVFD5uSuUFBFw', datetime.datetime(2014, 10, 8, 0, 0), datetime.datetime(2016, 5, 16, 0, 0)), ('--GwB-sktmoAOPBsbAaiow', datetime.datetime(2014, 8, 27, 0, 0), datetime.datetime(2016, 2, 26, 0, 0)), ('--h2-gMvGgfBOmvlq59ppQ', datetime.datetime(2015, 11, 20, 0, 0), datetime.datetime(2017, 5, 20, 0, 0)), ('--haaCngcz4NnX_IVSFswA', datetime.datetime(2012, 1, 22, 0, 0), datetime.datetime(2017, 3, 24, 0, 0)), ('--hAHZ9DYVbW1xo0mMIGuw', datetime.datetime(2015, 7, 18, 0, 0), datetime.datetime(2016, 7, 18, 0, 0)), ('--HCoE1ghaAlcaAfshICgw', datetime.datetime(2012, 5, 7, 0, 0), datetime.datetime(2014, 7, 31, 0, 0)), ('--HeZYR8uZadRXLAQpp-Tg', datetime.datetime(2014, 9, 3, 0, 0), datetime.datetime(2016, 2, 21, 0, 0)), ('--HOeLECewlqBqvFhQYUVA', datetime.datetime(2015, 3, 8, 0, 0), datetime.datetime(2017, 5, 21, 0, 0)), ('--HTK7EdtoCKTsNbA17CNA', datetime.datetime(2013, 10, 26, 0, 0), datetime.datetime(2014, 4, 18, 0, 0)), ('--i0PK1aTXScdV2UkNDkSQ', datetime.datetime(2014, 11, 9, 0, 0), datetime.datetime(2015, 11, 12, 0, 0)), ('--I4PlFQXAQcpk_eUJEW6w', datetime.datetime(2010, 4, 22, 0, 0), datetime.datetime(2013, 5, 5, 0, 0)), ('--I4wRDhmM2J2VLzK8oEew', datetime.datetime(2014, 1, 17, 0, 0), datetime.datetime(2014, 9, 14, 0, 0)), ('--i7WS2pwOQKQl6uB15q1A', datetime.datetime(2017, 5, 6, 0, 0), datetime.datetime(2017, 6, 7, 0, 0)), ('--I8oeC2I3GXWeI6seyx8g', datetime.datetime(2014, 1, 10, 0, 0), datetime.datetime(2016, 11, 22, 0, 0)), ('--IFH_sbTkfXxbXO4nSEyQ', datetime.datetime(2016, 4, 28, 0, 0), datetime.datetime(2016, 12, 11, 0, 0)), ('--iiD1TQzaXGxePZ1g5S2A', datetime.datetime(2014, 7, 19, 0, 0), datetime.datetime(2016, 6, 2, 0, 0)), ('--IJ1MaFBp4bLFJ1xkofPw', datetime.datetime(2012, 5, 16, 0, 0), datetime.datetime(2014, 11, 9, 0, 0)), ('--inoxVRk5TYjhuI4e304A', datetime.datetime(2013, 3, 29, 0, 0), datetime.datetime(2016, 10, 12, 0, 0)), ('--IYQykIJoVtoae5WChZiw', datetime.datetime(2014, 6, 15, 0, 0), datetime.datetime(2014, 6, 16, 0, 0)), ('--iYUTSkH-LjfQt9EN8Nnw', datetime.datetime(2011, 8, 22, 0, 0), datetime.datetime(2016, 7, 15, 0, 0)), ('--J3HPoNe-IJ0xE10Z_sDg', datetime.datetime(2012, 1, 1, 0, 0), datetime.datetime(2015, 3, 3, 0, 0)), ('--j4xIyyr5ip-WCbNGzMkA', datetime.datetime(2013, 12, 2, 0, 0), datetime.datetime(2015, 5, 4, 0, 0)), ('--J8UruLD_xvVuI1lMAxpA', datetime.datetime(2009, 10, 12, 0, 0), datetime.datetime(2010, 1, 31, 0, 0)), ('--jIff_lr2CN1cvnuoC14A', datetime.datetime(2011, 2, 20, 0, 0), datetime.datetime(2011, 11, 29, 0, 0)), ('--JS-RvSykutl1DavCbkIg', datetime.datetime(2014, 7, 7, 0, 0), datetime.datetime(2016, 7, 24, 0, 0)), ('--K2iq2BCfOwu9CmDm3zCQ', datetime.datetime(2014, 4, 6, 0, 0), datetime.datetime(2015, 2, 21, 0, 0)), ('--kdggJkUFNxLmQvzvYkUg', datetime.datetime(2011, 10, 12, 0, 0), datetime.datetime(2016, 10, 19, 0, 0)), ('--kedvpjB1PT28X_gArafA', datetime.datetime(2008, 8, 1, 0, 0), datetime.datetime(2016, 1, 24, 0, 0)), ('--KKFIKZpMeRy8fLNp0brA', datetime.datetime(2017, 2, 20, 0, 0), datetime.datetime(2017, 3, 16, 0, 0)), ('--kMhfqxhJ7sEDiRCSKO0A', datetime.datetime(2014, 2, 18, 0, 0), datetime.datetime(2015, 1, 28, 0, 0)), ('--KQJPdrU0Md97DiOliDzw', datetime.datetime(2006, 1, 17, 0, 0), datetime.datetime(2009, 3, 26, 0, 0)), ('--KR35achpjfu4qZ5Mb5Kg', datetime.datetime(2012, 2, 14, 0, 0), datetime.datetime(2014, 2, 2, 0, 0)), ('--kvGeSg0-nfm3pB9ED5Vw', datetime.datetime(2013, 5, 21, 0, 0), datetime.datetime(2015, 12, 3, 0, 0)), ('--L85n0ZsJb2qHsGqpiYWw', datetime.datetime(2010, 11, 3, 0, 0), datetime.datetime(2010, 12, 17, 0, 0)), ('--lLPe25C11iuKI1hwgxaQ', datetime.datetime(2013, 5, 2, 0, 0), datetime.datetime(2017, 7, 14, 0, 0)), ('--LNODeTnFsPFlS_875W2Q', datetime.datetime(2012, 12, 13, 0, 0), datetime.datetime(2015, 3, 15, 0, 0)), ('--LnqQQ2mVdrpPt2UC8d6A', datetime.datetime(2012, 4, 8, 0, 0), datetime.datetime(2014, 4, 4, 0, 0)), ('--LUapetRSkZpFZ2d-MXLQ', datetime.datetime(2009, 8, 6, 0, 0), datetime.datetime(2016, 3, 21, 0, 0)), ('--lYimIU3B574TtI2W79GA', datetime.datetime(2014, 3, 1, 0, 0), datetime.datetime(2016, 6, 8, 0, 0)), ('--L_yvPtHKRTjRO0T8FL0g', datetime.datetime(2015, 4, 5, 0, 0), datetime.datetime(2017, 1, 30, 0, 0)), ('--m6Dlndll--hFhhUjkb_Q', datetime.datetime(2013, 7, 19, 0, 0), datetime.datetime(2015, 9, 19, 0, 0)), ('--mIpHRPcgD7Ew4Vzl0opA', datetime.datetime(2015, 1, 23, 0, 0), datetime.datetime(2015, 12, 14, 0, 0)), ('--MO0Mi5MlB9A-59HYcteA', datetime.datetime(2013, 4, 5, 0, 0), datetime.datetime(2015, 11, 27, 0, 0)), ('--mQ4S5h1tXzvE9VDYVwdQ', datetime.datetime(2009, 8, 11, 0, 0), datetime.datetime(2012, 11, 15, 0, 0)), ('--mSYQD4piZRagYS73frlQ', datetime.datetime(2011, 11, 20, 0, 0), datetime.datetime(2012, 5, 28, 0, 0)), ('--mUBPK_NdRNVyhDVoUIUA', datetime.datetime(2015, 9, 24, 0, 0), datetime.datetime(2016, 8, 2, 0, 0)), ('--n3maDf6QJwODAXUiyXJQ', datetime.datetime(2009, 5, 27, 0, 0), datetime.datetime(2017, 1, 22, 0, 0)), ('--NceChXmZgyx57MtQFjyw', datetime.datetime(2013, 10, 21, 0, 0), datetime.datetime(2017, 4, 28, 0, 0)), ('--neBDssyZlHqAWgrHtUBQ', datetime.datetime(2015, 8, 2, 0, 0), datetime.datetime(2017, 6, 3, 0, 0)), ('--NIc98RMssgy0mSZL3vpA', datetime.datetime(2013, 8, 15, 0, 0), datetime.datetime(2016, 8, 4, 0, 0)), ('--nIqAJNHk0kc2_uFJ7LMA', datetime.datetime(2012, 6, 26, 0, 0), datetime.datetime(2016, 6, 6, 0, 0)), ('--Nnm_506G_p8MxAOQna5w', datetime.datetime(2013, 2, 23, 0, 0), datetime.datetime(2015, 12, 20, 0, 0)), ('--nQ4-F7JINAlPir_f-VeQ', datetime.datetime(2014, 8, 3, 0, 0), datetime.datetime(2016, 4, 2, 0, 0)), ('--O1bi61whjxObUkR0a16w', datetime.datetime(2011, 1, 26, 0, 0), datetime.datetime(2011, 11, 23, 0, 0)), ('--O7ePKdAt5PLrXadIergQ', datetime.datetime(2013, 1, 29, 0, 0), datetime.datetime(2015, 1, 9, 0, 0)), ('--oa_6IvREwaGutOtE6ZpA', datetime.datetime(2015, 8, 21, 0, 0), datetime.datetime(2015, 9, 23, 0, 0)), ('--OECAoqfSTBaZ3biOyzwA', datetime.datetime(2016, 9, 20, 0, 0), datetime.datetime(2017, 1, 15, 0, 0)), ('--Oi-hOzz5vCLn9l6i-y4Q', datetime.datetime(2015, 1, 13, 0, 0), datetime.datetime(2015, 4, 17, 0, 0)), ('--OifHfYcX6tFOdcVCqXsA', datetime.datetime(2012, 4, 13, 0, 0), datetime.datetime(2017, 6, 29, 0, 0)), ('--oVdTxVd7QVr8Y0Ukz9uw', datetime.datetime(2011, 3, 4, 0, 0), datetime.datetime(2015, 3, 23, 0, 0)), ('--OZO4c_vDOVC2z2BWr92A', datetime.datetime(2016, 4, 30, 0, 0), datetime.datetime(2016, 5, 1, 0, 0)), ('--P-Qvza7AED8gnDrZkMgA', datetime.datetime(2013, 6, 21, 0, 0), datetime.datetime(2015, 7, 15, 0, 0)), ('--pBhah9QPQYu7jQft_3Yg', datetime.datetime(2010, 7, 30, 0, 0), datetime.datetime(2010, 9, 9, 0, 0)), ('--PgJdSVUpp7uCr99nUXqw', datetime.datetime(2012, 11, 24, 0, 0), datetime.datetime(2017, 5, 15, 0, 0)), ('--PHyzUR6FEjHqxg9I60LA', datetime.datetime(2015, 1, 23, 0, 0), datetime.datetime(2016, 1, 27, 0, 0)), ('--PJ1FuEoTEo-3Cxf_izRg', datetime.datetime(2013, 11, 27, 0, 0), datetime.datetime(2017, 1, 8, 0, 0)), ('--plKrUSHcgXBNwsD8ay1g', datetime.datetime(2011, 7, 23, 0, 0), datetime.datetime(2014, 8, 10, 0, 0)), ('--PMDzKmaztRxUvH4iCz2w', datetime.datetime(2011, 5, 17, 0, 0), datetime.datetime(2012, 9, 13, 0, 0)), ('--PPmv8YIKhc9gZaLwLI9w', datetime.datetime(2016, 1, 8, 0, 0), datetime.datetime(2016, 1, 29, 0, 0)), ('--ptW1Fc6eYwoIUShxozdw', datetime.datetime(2013, 10, 10, 0, 0), datetime.datetime(2014, 8, 29, 0, 0)), ('--QdTWzjRUHa_OkQw-ug8g', datetime.datetime(2011, 1, 1, 0, 0), datetime.datetime(2015, 8, 7, 0, 0)), ('--Qh8yKWAvIP4V4K8ZPfHA', datetime.datetime(2011, 1, 19, 0, 0), datetime.datetime(2017, 1, 9, 0, 0)), ('--qpuVw7_i9YB4Tlib1-9A', datetime.datetime(2008, 6, 14, 0, 0), datetime.datetime(2013, 6, 15, 0, 0)), ('--qS9xMszUJVuOuukYBQWw', datetime.datetime(2015, 11, 28, 0, 0), datetime.datetime(2016, 7, 3, 0, 0)), ('--rA81vhhTl45JANfKGmIw', datetime.datetime(2014, 7, 13, 0, 0), datetime.datetime(2014, 8, 11, 0, 0)), ('--RBfYfIpx44V5Kux2fPFA', datetime.datetime(2013, 6, 24, 0, 0), datetime.datetime(2013, 6, 26, 0, 0)), ('--rCpjxC4sXRm3xrbntcfQ', datetime.datetime(2014, 9, 13, 0, 0), datetime.datetime(2014, 11, 8, 0, 0)), ('--rK8GzcNfz88TpsSApCLg', datetime.datetime(2015, 5, 20, 0, 0), datetime.datetime(2015, 9, 7, 0, 0)), ('--RlSfc-QmcHFGHyX6aVjA', datetime.datetime(2010, 5, 4, 0, 0), datetime.datetime(2014, 2, 15, 0, 0)), ('--Rm-VyYWgHA7ZpljAMlvg', datetime.datetime(2010, 8, 24, 0, 0), datetime.datetime(2012, 6, 3, 0, 0)), ('--RNUEvgFSw-b-hhhgZzSg', datetime.datetime(2014, 12, 31, 0, 0), datetime.datetime(2017, 2, 24, 0, 0)), ('--RquisWmBzcezXZr_Rs8w', datetime.datetime(2015, 4, 26, 0, 0), datetime.datetime(2015, 8, 11, 0, 0)), ('--RRf-2d2CKi3yGQ9QqrsQ', datetime.datetime(2012, 6, 18, 0, 0), datetime.datetime(2017, 1, 24, 0, 0)), ('--rriu0TdaMVM6X11S3qAA', datetime.datetime(2012, 8, 24, 0, 0), datetime.datetime(2013, 10, 8, 0, 0)), ('--RvKroUUxMmTo70EnD5mQ', datetime.datetime(2015, 8, 17, 0, 0), datetime.datetime(2016, 8, 6, 0, 0)), ('--RY4bG7REOBum5HsSspxQ', datetime.datetime(2015, 10, 8, 0, 0), datetime.datetime(2016, 4, 30, 0, 0)), ('--RYvmB6UYRyZQqXkBv4eQ', datetime.datetime(2011, 1, 19, 0, 0), datetime.datetime(2013, 11, 2, 0, 0)), ('--s2o07RYI8F6AUpekfqhw', datetime.datetime(2013, 3, 15, 0, 0), datetime.datetime(2015, 3, 4, 0, 0)), ('--s9CO9UcNLd7yrVBjr97Q', datetime.datetime(2012, 10, 17, 0, 0), datetime.datetime(2013, 8, 8, 0, 0)), ('--Sa_OV7zINdU7F3bEOnVA', datetime.datetime(2012, 12, 24, 0, 0), datetime.datetime(2014, 2, 27, 0, 0)), ('--sJdiOsVhAvj6WQhoYPaA', datetime.datetime(2012, 6, 20, 0, 0), datetime.datetime(2015, 9, 25, 0, 0)), ('--t66-a-eJBQUpUvSjZ9qw', datetime.datetime(2008, 10, 26, 0, 0), datetime.datetime(2010, 5, 30, 0, 0)), ('--t7r3QUhrP2_YbmaNCQog', datetime.datetime(2014, 8, 28, 0, 0), datetime.datetime(2017, 5, 17, 0, 0)), ('--tBuESILBfPolbMJu5j0A', datetime.datetime(2014, 7, 7, 0, 0), datetime.datetime(2016, 8, 24, 0, 0)), ('--tNWiVft2ZV6BWaRkOpnw', datetime.datetime(2014, 2, 24, 0, 0), datetime.datetime(2015, 5, 3, 0, 0)), ('--TvGNywm2I1iwNWZmerBA', datetime.datetime(2012, 4, 27, 0, 0), datetime.datetime(2016, 10, 13, 0, 0)))\n"
     ]
    }
   ],
   "source": [
    "print(result_2[0:200])"
   ]
  },
  {
   "cell_type": "markdown",
   "metadata": {},
   "source": [
    "#### 3. Can't be elite in a year before their account was made"
   ]
  },
  {
   "cell_type": "code",
   "execution_count": 22,
   "metadata": {},
   "outputs": [],
   "source": [
    "query_3 =  \"SELECT user.id, user.yelping_since AS Date_of_yelping, elite_years.year AS Year_of_Elite\\\n",
    "            FROM (user INNER JOIN elite_years ON user.id = elite_years.user_id)\\\n",
    "            WHERE YEAR(user.yelping_since) < elite_years.year\\\n",
    "            GROUP BY user.id;\"\n",
    "\n",
    "result_3 = executeQuery(yelp_conn, query_3)"
   ]
  },
  {
   "cell_type": "code",
   "execution_count": 23,
   "metadata": {},
   "outputs": [
    {
     "data": {
      "text/plain": [
       "55493"
      ]
     },
     "execution_count": 23,
     "metadata": {},
     "output_type": "execute_result"
    }
   ],
   "source": [
    "len(result_3)"
   ]
  },
  {
   "cell_type": "markdown",
   "metadata": {},
   "source": [
    "#### 4. Can't checkin outside open hours"
   ]
  },
  {
   "cell_type": "markdown",
   "metadata": {},
   "source": [
    "#### 5. `User.number_reviews` cannot be less than the sum of their review"
   ]
  },
  {
   "cell_type": "code",
   "execution_count": null,
   "metadata": {
    "collapsed": true
   },
   "outputs": [],
   "source": []
  }
 ],
 "metadata": {
  "kernelspec": {
   "display_name": "Python 3",
   "language": "python",
   "name": "python3"
  },
  "language_info": {
   "codemirror_mode": {
    "name": "ipython",
    "version": 3
   },
   "file_extension": ".py",
   "mimetype": "text/x-python",
   "name": "python",
   "nbconvert_exporter": "python",
   "pygments_lexer": "ipython3",
   "version": "3.6.3"
  }
 },
 "nbformat": 4,
 "nbformat_minor": 2
}
