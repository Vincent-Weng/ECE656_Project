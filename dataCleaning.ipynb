{
 "cells": [
  {
   "cell_type": "markdown",
   "metadata": {},
   "source": [
    "## Part I - 1.2 Data cleaning"
   ]
  },
  {
   "cell_type": "code",
   "execution_count": 4,
   "metadata": {},
   "outputs": [],
   "source": [
    "\"\"\"Global functions and variables\"\"\"\n",
    "\n",
    "import pymysql\n",
    "\n",
    "def open_conn():\n",
    "    \"\"\"open the connection before each test case\"\"\"\n",
    "    conn = pymysql.connect(user='public', password='ece656yelp',\n",
    "                                   host='maindb.czbva1am4d4u.us-east-2.rds.amazonaws.com',\n",
    "                                   database='yelp_db')\n",
    "    return conn\n",
    "\n",
    "def close_conn(conn):\n",
    "    \"\"\"close the connection after each test case\"\"\"\n",
    "    conn.close()\n",
    "\n",
    "def executeQuery(conn, query, commit=False):\n",
    "    \"\"\" fetch result after query\"\"\"\n",
    "    cursor = conn.cursor()\n",
    "    query_num = query.count(\";\")\n",
    "    if query_num > 1:\n",
    "        for result in cursor.execute(query, params=None, multi=True):\n",
    "            if result.with_rows:\n",
    "                result = result.fetchall()\n",
    "    else:\n",
    "        cursor.execute(query)\n",
    "        result = cursor.fetchall()\n",
    "    # we commit the results only if we want the updates to Can't leave a review dated before account creationthe database\n",
    "    # to persist.\n",
    "    if commit:\n",
    "        conn.commit()\n",
    "    else:\n",
    "        conn.rollback()\n",
    "    # close the cursor used to execute the query\n",
    "    cursor.close()\n",
    "    return result\n",
    "\n",
    "yelp_conn = open_conn()"
   ]
  },
  {
   "cell_type": "markdown",
   "metadata": {},
   "source": [
    "#### 1. Check that no review is from the future or before Yelp's founding"
   ]
  },
  {
   "cell_type": "code",
   "execution_count": 13,
   "metadata": {},
   "outputs": [
    {
     "data": {
      "text/plain": [
       "(('03B9-gqbeGoMmPJbNzNT5w', datetime.datetime(2004, 9, 15, 0, 0)), ('PbIY2aIyszb6he6J-ey67w', datetime.datetime(2004, 7, 22, 0, 0)))"
      ]
     },
     "execution_count": 13,
     "metadata": {},
     "output_type": "execute_result"
    }
   ],
   "source": [
    "query_1 = \"SELECT id, date FROM review WHERE unix_timestamp(date) <= unix_timestamp('2004-10-01')\\\n",
    "           OR unix_timestamp(date) >= unix_timestamp('2018-01-01')\";\n",
    "\n",
    "result_1 = executeQuery(yelp_conn, query_1)\n",
    "result_1"
   ]
  },
  {
   "cell_type": "markdown",
   "metadata": {},
   "source": [
    "This shows 2 accounts that were created before Yelp's founding in October 2004."
   ]
  },
  {
   "cell_type": "markdown",
   "metadata": {},
   "source": [
    "#### 2. Can't leave a review dated before account creation"
   ]
  },
  {
   "cell_type": "code",
   "execution_count": 2,
   "metadata": {},
   "outputs": [],
   "source": [
    "query_2 =  \"SELECT user.id, user.yelping_since AS Date_started_yelping, review.date AS Date_of_Review\\\n",
    "            FROM (user INNER JOIN review ON user.id = review.user_id)\\\n",
    "            WHERE user.yelping_since > review.date\\\n",
    "            GROUP BY user.id;\"\n",
    "\n",
    "result_2 = executeQuery(yelp_conn, query_2)"
   ]
  },
  {
   "cell_type": "code",
   "execution_count": 3,
   "metadata": {},
   "outputs": [
    {
     "data": {
      "text/plain": [
       "191"
      ]
     },
     "execution_count": 3,
     "metadata": {},
     "output_type": "execute_result"
    }
   ],
   "source": [
    "len(result_2)"
   ]
  },
  {
   "cell_type": "markdown",
   "metadata": {},
   "source": [
    "This means these users somehow posted a review before their account was created, suggesting a glitch with their database."
   ]
  },
  {
   "cell_type": "code",
   "execution_count": 5,
   "metadata": {},
   "outputs": [
    {
     "name": "stdout",
     "output_type": "stream",
     "text": [
      "('-58CWJ48is4duXgpvsWEGA', datetime.datetime(2013, 9, 18, 0, 0), datetime.datetime(2008, 10, 23, 0, 0))\n",
      "('-9NfX8JO_5UVN_h1K8yOcg', datetime.datetime(2015, 2, 12, 0, 0), datetime.datetime(2010, 2, 26, 0, 0))\n",
      "('-kEsfYKPs1_rgEWEIui2Mw', datetime.datetime(2015, 2, 14, 0, 0), datetime.datetime(2014, 4, 7, 0, 0))\n",
      "('-KP8Me2KRqO7IwKIaFL-Vg', datetime.datetime(2013, 10, 19, 0, 0), datetime.datetime(2013, 9, 2, 0, 0))\n",
      "('09T8OU8BDhQkiU8m4vZy_A', datetime.datetime(2013, 10, 21, 0, 0), datetime.datetime(2013, 10, 16, 0, 0))\n",
      "('0xjJDvZ6gZVoWRFEZJ48wA', datetime.datetime(2007, 1, 17, 0, 0), datetime.datetime(2007, 1, 15, 0, 0))\n",
      "('1F9di6oPHhQm1qjZIcbsYA', datetime.datetime(2013, 12, 5, 0, 0), datetime.datetime(2013, 10, 5, 0, 0))\n",
      "('2Ea6wAkeOPyZ7BD-0rPejQ', datetime.datetime(2013, 9, 18, 0, 0), datetime.datetime(2012, 10, 9, 0, 0))\n",
      "('2oxUNDpouxH8Y02yG6pG-w', datetime.datetime(2010, 4, 28, 0, 0), datetime.datetime(2006, 1, 25, 0, 0))\n",
      "('37jJedy6_ptCmNvBJ-H54g', datetime.datetime(2014, 8, 16, 0, 0), datetime.datetime(2007, 3, 10, 0, 0))\n",
      "('3BHeHTGNZcaEi8woqGy2kA', datetime.datetime(2013, 10, 19, 0, 0), datetime.datetime(2013, 10, 4, 0, 0))\n",
      "('3cKcTbCIWp97pK8lo0Ao5Q', datetime.datetime(2015, 2, 12, 0, 0), datetime.datetime(2012, 11, 4, 0, 0))\n",
      "('3M1IB2QtJOuBlneiZ1532w', datetime.datetime(2013, 10, 22, 0, 0), datetime.datetime(2013, 10, 4, 0, 0))\n",
      "('3wCR1kGccoxgfuzzQ0_p-A', datetime.datetime(2013, 10, 18, 0, 0), datetime.datetime(2012, 1, 21, 0, 0))\n",
      "('4jIlAyittJukBRteYp2Gig', datetime.datetime(2014, 1, 28, 0, 0), datetime.datetime(2011, 12, 20, 0, 0))\n",
      "('5eLIdrtZFjQO1VCWwWok2w', datetime.datetime(2013, 8, 18, 0, 0), datetime.datetime(2012, 8, 13, 0, 0))\n",
      "('5o3iqx2ueZmiTIRVuuO4nw', datetime.datetime(2013, 5, 26, 0, 0), datetime.datetime(2012, 12, 24, 0, 0))\n",
      "('6ESU4WqmScR1Vpjr1nDDig', datetime.datetime(2013, 10, 17, 0, 0), datetime.datetime(2013, 10, 14, 0, 0))\n",
      "('6i8vhqI1x9qzJ4fjT_x6xQ', datetime.datetime(2008, 3, 24, 0, 0), datetime.datetime(2007, 3, 19, 0, 0))\n",
      "('6LDypE52IBrhXeYsd-6uqw', datetime.datetime(2015, 2, 14, 0, 0), datetime.datetime(2014, 1, 10, 0, 0))\n"
     ]
    }
   ],
   "source": [
    "output = [print(result) for result in result_2[:20]]"
   ]
  },
  {
   "cell_type": "markdown",
   "metadata": {},
   "source": [
    "#### 3. Can't be elite in a year before their account was made"
   ]
  },
  {
   "cell_type": "code",
   "execution_count": 26,
   "metadata": {},
   "outputs": [],
   "source": [
    "query_3 =  \"SELECT user.id, user.yelping_since AS Date_of_yelping, elite_years.year AS Year_of_Elite\\\n",
    "            FROM (user INNER JOIN elite_years ON user.id = elite_years.user_id)\\\n",
    "            WHERE YEAR(user.yelping_since) < elite_years.year\\\n",
    "            GROUP BY user.id;\"\n",
    "\n",
    "result_3 = executeQuery(yelp_conn, query_3)"
   ]
  },
  {
   "cell_type": "code",
   "execution_count": 27,
   "metadata": {},
   "outputs": [
    {
     "data": {
      "text/plain": [
       "55493"
      ]
     },
     "execution_count": 27,
     "metadata": {},
     "output_type": "execute_result"
    }
   ],
   "source": [
    "len(result_3)"
   ]
  },
  {
   "cell_type": "markdown",
   "metadata": {},
   "source": [
    "#### 4. Can't checkin outside open hours"
   ]
  },
  {
   "cell_type": "code",
   "execution_count": 33,
   "metadata": {},
   "outputs": [
    {
     "data": {
      "text/plain": [
       "((480488,),)"
      ]
     },
     "execution_count": 33,
     "metadata": {},
     "output_type": "execute_result"
    }
   ],
   "source": [
    "query_4 = \"SELECT COUNT(*) FROM checkin JOIN (SELECT hours.business_id, SUBSTRING_INDEX(hours, '|', 1)\\\n",
    "           AS day_of_week, SUBSTRING_INDEX(SUBSTRING_INDEX(hours, '|', - 1), '-', 1) AS opening_time,\\\n",
    "           SUBSTRING_INDEX(SUBSTRING_INDEX(hours, '|', - 1), '-', - 1) AS closing_time FROM hours)\\\n",
    "           AS a ON a.business_id = checkin.business_id\\\n",
    "           AND a.day_of_week = SUBSTRING_INDEX(checkin.date, '-', 1)\\\n",
    "           WHERE a.opening_time > SUBSTRING_INDEX(checkin.date, '-', - 1)\\\n",
    "           AND a.closing_time < SUBSTRING_INDEX(checkin.date, '-', - 1);\"\n",
    "result_4 = executeQuery(yelp_conn, query_4)\n",
    "result_4[0]"
   ]
  },
  {
   "cell_type": "markdown",
   "metadata": {},
   "source": [
    "This shows that there are many check ins that occur outside of the businesses open hours which are potentially invalid checkins, but this is not a guarantee because it is possible that the business changed their hours of operation at some point after someone checked in, resulting in the discrepency. \n",
    "\n",
    "This also shows the need within the database for the date column in the checkin and the hours column in the hours table to be normalized by splitting into date, opening time and closing time columns as this would save computation time having to perform substring_index computations on every row."
   ]
  },
  {
   "cell_type": "markdown",
   "metadata": {},
   "source": [
    "#### 5. `User.review_count` cannot be less than the sum of the number of reviews by a user"
   ]
  },
  {
   "cell_type": "code",
   "execution_count": 17,
   "metadata": {},
   "outputs": [
    {
     "name": "stdout",
     "output_type": "stream",
     "text": [
      "(1319,)\n"
     ]
    }
   ],
   "source": [
    "query_5 = \"select count(*) from user join (select count(user_id) as countedReviews, user_id from\\\n",
    "           review group by user_id) as a on a.user_id = user.id where a.countedReviews > review_count;\"\n",
    "result_5 = executeQuery(yelp_conn, query_5)\n",
    "print(result_5[0])"
   ]
  },
  {
   "cell_type": "markdown",
   "metadata": {},
   "source": [
    "This shows that the way Yelp gets the review_count number is potentially flawed since it should never count there being less reviews than the number of reviews provided for each user, unless the dataset that it was acquiring the count from was out of date."
   ]
  },
  {
   "cell_type": "markdown",
   "metadata": {},
   "source": [
    "#### 6. Cannot be Elite in an invalid year\n",
    "Invalid years include ones before 2004, years in the future or years they didn't post a review, tip or photo."
   ]
  },
  {
   "cell_type": "code",
   "execution_count": 12,
   "metadata": {},
   "outputs": [
    {
     "name": "stdout",
     "output_type": "stream",
     "text": [
      "(37,)\n"
     ]
    }
   ],
   "source": [
    "query_6 = \"select count(*) from elite_years join \\\n",
    "(SELECT user_id, SUBSTRING_INDEX(date, '-', 1) AS year FROM review) \\\n",
    "as a on a.user_id=elite_years.user_id and a.year = elite_years.year \\\n",
    "group by elite_years.user_id, elite_years.year;\"\n",
    "result_6 = executeQuery(yelp_conn, query_6)\n",
    "print(result_6[0])"
   ]
  },
  {
   "cell_type": "markdown",
   "metadata": {},
   "source": [
    "In total there are 186900 entries in elite_years. 37 appear to be erroneous."
   ]
  },
  {
   "cell_type": "code",
   "execution_count": null,
   "metadata": {},
   "outputs": [],
   "source": []
  }
 ],
 "metadata": {
  "kernelspec": {
   "display_name": "Python 3",
   "language": "python",
   "name": "python3"
  },
  "language_info": {
   "codemirror_mode": {
    "name": "ipython",
    "version": 3
   },
   "file_extension": ".py",
   "mimetype": "text/x-python",
   "name": "python",
   "nbconvert_exporter": "python",
   "pygments_lexer": "ipython3",
   "version": "3.6.4"
  }
 },
 "nbformat": 4,
 "nbformat_minor": 2
}
