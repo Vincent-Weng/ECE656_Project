{
 "cells": [
  {
   "cell_type": "code",
   "execution_count": 3,
   "metadata": {},
   "outputs": [],
   "source": [
    "\"\"\"Global functions and variables\"\"\"\n",
    "\n",
    "import pymysql\n",
    "\n",
    "def open_conn():\n",
    "    \"\"\"open the connection before each test case\"\"\"\n",
    "    conn = pymysql.connect(user='public', password='ece656yelp',\n",
    "                                   host='maindb.czbva1am4d4u.us-east-2.rds.amazonaws.com',\n",
    "                                   database='yelp_db')\n",
    "    return conn\n",
    "\n",
    "def close_conn(conn):\n",
    "    \"\"\"close the connection after each test case\"\"\"\n",
    "    conn.close()\n",
    "\n",
    "def executeQuery(conn, query, commit=False):\n",
    "    \"\"\" fetch result after query\"\"\"\n",
    "    cursor = conn.cursor()\n",
    "    query_num = query.count(\";\")\n",
    "    if query_num > 1:\n",
    "        for result in cursor.execute(query, params=None, multi=True):\n",
    "            if result.with_rows:\n",
    "                result = result.fetchall()\n",
    "    else:\n",
    "        cursor.execute(query)\n",
    "        result = cursor.fetchall()\n",
    "    # we commit the results only if we want the updates to Can't leave a review dated before account creationthe database\n",
    "    # to persist.\n",
    "    if commit:\n",
    "        conn.commit()\n",
    "    else:\n",
    "        conn.rollback()\n",
    "    # close the cursor used to execute the query\n",
    "    cursor.close()\n",
    "    return result\n",
    "\n",
    "yelp_conn = open_conn()"
   ]
  },
  {
   "cell_type": "markdown",
   "metadata": {},
   "source": [
    "## Part I. Data cleaning"
   ]
  },
  {
   "cell_type": "markdown",
   "metadata": {},
   "source": [
    "#### 1. Check that no review is from the future or before Yelp's founding"
   ]
  },
  {
   "cell_type": "code",
   "execution_count": 13,
   "metadata": {},
   "outputs": [
    {
     "data": {
      "text/plain": [
       "(('03B9-gqbeGoMmPJbNzNT5w', datetime.datetime(2004, 9, 15, 0, 0)), ('PbIY2aIyszb6he6J-ey67w', datetime.datetime(2004, 7, 22, 0, 0)))"
      ]
     },
     "execution_count": 13,
     "metadata": {},
     "output_type": "execute_result"
    }
   ],
   "source": [
    "query_1 = \"SELECT id, date FROM review WHERE unix_timestamp(date) <= unix_timestamp('2004-10-01')\\\n",
    "           OR unix_timestamp(date) >= unix_timestamp('2018-01-01')\";\n",
    "\n",
    "result_1 = executeQuery(yelp_conn, query_1)\n",
    "result_1"
   ]
  },
  {
   "cell_type": "markdown",
   "metadata": {},
   "source": [
    "This shows 2 accounts that were created before Yelp's founding in October 2004."
   ]
  },
  {
   "cell_type": "markdown",
   "metadata": {},
   "source": [
    "#### 2. Can't leave a review dated before account creation"
   ]
  },
  {
   "cell_type": "code",
   "execution_count": 4,
   "metadata": {},
   "outputs": [],
   "source": [
    "query_2 =  \"SELECT user.id, user.yelping_since AS Date_started_yelping, review.date AS Date_of_Review\\\n",
    "            FROM (user INNER JOIN review ON user.id = review.user_id)\\\n",
    "            WHERE user.yelping_since > review.date\\\n",
    "            GROUP BY user.id;\"\n",
    "\n",
    "result_2 = executeQuery(yelp_conn, query_2)"
   ]
  },
  {
   "cell_type": "code",
   "execution_count": 5,
   "metadata": {},
   "outputs": [
    {
     "data": {
      "text/plain": [
       "191"
      ]
     },
     "execution_count": 5,
     "metadata": {},
     "output_type": "execute_result"
    }
   ],
   "source": [
    "len(result_2)"
   ]
  },
  {
   "cell_type": "markdown",
   "metadata": {},
   "source": [
    "This means these users somehow posted a review before their account was created, suggesting a glitch with their database."
   ]
  },
  {
   "cell_type": "code",
   "execution_count": 12,
   "metadata": {},
   "outputs": [
    {
     "name": "stdout",
     "output_type": "stream",
     "text": [
      "('-58CWJ48is4duXgpvsWEGA', datetime.datetime(2013, 9, 18, 0, 0), datetime.datetime(2008, 10, 23, 0, 0))\n",
      "('-9NfX8JO_5UVN_h1K8yOcg', datetime.datetime(2015, 2, 12, 0, 0), datetime.datetime(2010, 2, 26, 0, 0))\n",
      "('-kEsfYKPs1_rgEWEIui2Mw', datetime.datetime(2015, 2, 14, 0, 0), datetime.datetime(2014, 4, 7, 0, 0))\n",
      "('-KP8Me2KRqO7IwKIaFL-Vg', datetime.datetime(2013, 10, 19, 0, 0), datetime.datetime(2013, 9, 2, 0, 0))\n",
      "('09T8OU8BDhQkiU8m4vZy_A', datetime.datetime(2013, 10, 21, 0, 0), datetime.datetime(2013, 10, 16, 0, 0))\n",
      "('0xjJDvZ6gZVoWRFEZJ48wA', datetime.datetime(2007, 1, 17, 0, 0), datetime.datetime(2007, 1, 15, 0, 0))\n",
      "('1F9di6oPHhQm1qjZIcbsYA', datetime.datetime(2013, 12, 5, 0, 0), datetime.datetime(2013, 10, 5, 0, 0))\n",
      "('2Ea6wAkeOPyZ7BD-0rPejQ', datetime.datetime(2013, 9, 18, 0, 0), datetime.datetime(2012, 10, 9, 0, 0))\n",
      "('2oxUNDpouxH8Y02yG6pG-w', datetime.datetime(2010, 4, 28, 0, 0), datetime.datetime(2006, 1, 25, 0, 0))\n",
      "('37jJedy6_ptCmNvBJ-H54g', datetime.datetime(2014, 8, 16, 0, 0), datetime.datetime(2007, 3, 10, 0, 0))\n",
      "('3BHeHTGNZcaEi8woqGy2kA', datetime.datetime(2013, 10, 19, 0, 0), datetime.datetime(2013, 10, 4, 0, 0))\n",
      "('3cKcTbCIWp97pK8lo0Ao5Q', datetime.datetime(2015, 2, 12, 0, 0), datetime.datetime(2012, 11, 4, 0, 0))\n",
      "('3M1IB2QtJOuBlneiZ1532w', datetime.datetime(2013, 10, 22, 0, 0), datetime.datetime(2013, 10, 4, 0, 0))\n",
      "('3wCR1kGccoxgfuzzQ0_p-A', datetime.datetime(2013, 10, 18, 0, 0), datetime.datetime(2012, 1, 21, 0, 0))\n",
      "('4jIlAyittJukBRteYp2Gig', datetime.datetime(2014, 1, 28, 0, 0), datetime.datetime(2011, 12, 20, 0, 0))\n",
      "('5eLIdrtZFjQO1VCWwWok2w', datetime.datetime(2013, 8, 18, 0, 0), datetime.datetime(2012, 8, 13, 0, 0))\n",
      "('5o3iqx2ueZmiTIRVuuO4nw', datetime.datetime(2013, 5, 26, 0, 0), datetime.datetime(2012, 12, 24, 0, 0))\n",
      "('6ESU4WqmScR1Vpjr1nDDig', datetime.datetime(2013, 10, 17, 0, 0), datetime.datetime(2013, 10, 14, 0, 0))\n",
      "('6i8vhqI1x9qzJ4fjT_x6xQ', datetime.datetime(2008, 3, 24, 0, 0), datetime.datetime(2007, 3, 19, 0, 0))\n",
      "('6LDypE52IBrhXeYsd-6uqw', datetime.datetime(2015, 2, 14, 0, 0), datetime.datetime(2014, 1, 10, 0, 0))\n",
      "('6rWeBvZN4em3pxKVl2oveQ', datetime.datetime(2009, 7, 27, 0, 0), datetime.datetime(2008, 4, 7, 0, 0))\n",
      "('6u1jfnhKeaqI4vldcguGdQ', datetime.datetime(2013, 11, 15, 0, 0), datetime.datetime(2013, 9, 2, 0, 0))\n",
      "('6UaIwJ3L9bIWME5p2pTaOA', datetime.datetime(2015, 1, 24, 0, 0), datetime.datetime(2014, 10, 4, 0, 0))\n",
      "('6uLIYEnk2cqwHMjnvOnCjQ', datetime.datetime(2013, 10, 22, 0, 0), datetime.datetime(2013, 9, 28, 0, 0))\n",
      "('77NQtKaHoFWKyp1y9_KRSQ', datetime.datetime(2013, 11, 6, 0, 0), datetime.datetime(2013, 10, 26, 0, 0))\n",
      "('7fSWMN8xeq30V6c6Zv_7AA', datetime.datetime(2009, 3, 18, 0, 0), datetime.datetime(2007, 1, 17, 0, 0))\n",
      "('7RrN08dcqkotzChPnwejbg', datetime.datetime(2015, 2, 13, 0, 0), datetime.datetime(2013, 10, 10, 0, 0))\n",
      "('7tCL10cCP1EzOXyILgnMvA', datetime.datetime(2012, 10, 30, 0, 0), datetime.datetime(2011, 2, 21, 0, 0))\n",
      "('7_SvVw33PigvHHe5Z0wN4A', datetime.datetime(2015, 2, 12, 0, 0), datetime.datetime(2012, 12, 10, 0, 0))\n",
      "('813Mk9m0pONGxCMgDKbMPA', datetime.datetime(2007, 1, 12, 0, 0), datetime.datetime(2005, 10, 14, 0, 0))\n",
      "('8DHdVDN8njyJ7nF2in8fKg', datetime.datetime(2014, 11, 16, 0, 0), datetime.datetime(2014, 2, 2, 0, 0))\n",
      "('8FA5VwNFSfTlSzxvaMZkIQ', datetime.datetime(2015, 2, 12, 0, 0), datetime.datetime(2013, 11, 11, 0, 0))\n",
      "('8JWu616GR_uAsaDKkl7gog', datetime.datetime(2015, 2, 21, 0, 0), datetime.datetime(2014, 10, 28, 0, 0))\n",
      "('98lzzEjrSxBK7wQCsK_acA', datetime.datetime(2015, 2, 13, 0, 0), datetime.datetime(2013, 11, 4, 0, 0))\n",
      "('9bfajk9o3-b4s4Q8tWqdTg', datetime.datetime(2013, 11, 6, 0, 0), datetime.datetime(2013, 9, 7, 0, 0))\n",
      "('9jpZNn-DXFZuo3Xpvw-KJQ', datetime.datetime(2013, 10, 24, 0, 0), datetime.datetime(2013, 9, 26, 0, 0))\n",
      "('9qWDv0ZLs6L6iEPFKNGAbw', datetime.datetime(2013, 8, 13, 0, 0), datetime.datetime(2011, 8, 9, 0, 0))\n",
      "('9u1iRrHtgpgXqpR6Mp-_Xw', datetime.datetime(2012, 10, 11, 0, 0), datetime.datetime(2008, 12, 19, 0, 0))\n",
      "('AASW5J-WBhlp5M7QCsTNtQ', datetime.datetime(2013, 10, 18, 0, 0), datetime.datetime(2013, 9, 4, 0, 0))\n",
      "('AbQPQMUgoNY5ivPgx9LCwQ', datetime.datetime(2013, 8, 6, 0, 0), datetime.datetime(2011, 8, 17, 0, 0))\n",
      "('abT9vWuiKtcjzAD10cMFTg', datetime.datetime(2007, 4, 25, 0, 0), datetime.datetime(2007, 2, 4, 0, 0))\n",
      "('AF7IawCq2n_7S890mEGqGQ', datetime.datetime(2015, 2, 16, 0, 0), datetime.datetime(2010, 1, 3, 0, 0))\n",
      "('ageTVH5Z9MLwXlK_K3IGyg', datetime.datetime(2015, 2, 18, 0, 0), datetime.datetime(2009, 6, 5, 0, 0))\n",
      "('anyWjahz_wk9PyVJS8o3ZA', datetime.datetime(2015, 2, 18, 0, 0), datetime.datetime(2014, 1, 8, 0, 0))\n",
      "('ARqoQ2-xarR2cBnAUROYug', datetime.datetime(2007, 12, 5, 0, 0), datetime.datetime(2007, 8, 20, 0, 0))\n",
      "('AThs5DyymoGirPgwSnf5QQ', datetime.datetime(2013, 10, 21, 0, 0), datetime.datetime(2013, 8, 28, 0, 0))\n",
      "('aVwRIdn3hAwQ3UjA40Tsfw', datetime.datetime(2015, 2, 12, 0, 0), datetime.datetime(2013, 2, 24, 0, 0))\n",
      "('B2L4kUyn3_lyYmdWGyJheA', datetime.datetime(2013, 10, 20, 0, 0), datetime.datetime(2013, 10, 19, 0, 0))\n",
      "('bhlcvj-AOGn3ig_SVUzIgQ', datetime.datetime(2013, 10, 18, 0, 0), datetime.datetime(2013, 9, 5, 0, 0))\n",
      "('boW-zRvc2Roz1DDXgQ0Hjw', datetime.datetime(2015, 2, 20, 0, 0), datetime.datetime(2014, 6, 4, 0, 0))\n",
      "('c74gzEcT4WH72xVi1kegZA', datetime.datetime(2013, 10, 22, 0, 0), datetime.datetime(2013, 9, 7, 0, 0))\n",
      "('c9B_1B6F0B_IW6bBXhQV4Q', datetime.datetime(2009, 8, 23, 0, 0), datetime.datetime(2006, 12, 10, 0, 0))\n",
      "('CdmKkmbMt1ujkcCO_yljhQ', datetime.datetime(2015, 2, 12, 0, 0), datetime.datetime(2014, 3, 2, 0, 0))\n",
      "('CDVOVIHJ7ZeltqQ1F-7fnQ', datetime.datetime(2013, 10, 21, 0, 0), datetime.datetime(2013, 10, 20, 0, 0))\n",
      "('CEesaYV3eIo56d5GX-PF0A', datetime.datetime(2013, 11, 20, 0, 0), datetime.datetime(2013, 9, 18, 0, 0))\n",
      "('ceHP0J_svpqI9wWalDg5hQ', datetime.datetime(2013, 9, 18, 0, 0), datetime.datetime(2012, 5, 13, 0, 0))\n",
      "('CSA--uuVKiKcG-w0f8Ej7w', datetime.datetime(2013, 9, 18, 0, 0), datetime.datetime(2012, 6, 17, 0, 0))\n",
      "('cxY9HybNhhyQ6p2SLEHSiA', datetime.datetime(2008, 11, 24, 0, 0), datetime.datetime(2006, 7, 24, 0, 0))\n",
      "('CZAalqMopLvA8jurO0acEA', datetime.datetime(2013, 9, 18, 0, 0), datetime.datetime(2011, 5, 6, 0, 0))\n",
      "('D1C7gkp1CrdXbURVCdv2nw', datetime.datetime(2013, 10, 9, 0, 0), datetime.datetime(2010, 8, 25, 0, 0))\n",
      "('d1Kv3TW9LChkUSOLEPgT7g', datetime.datetime(2013, 10, 21, 0, 0), datetime.datetime(2013, 9, 27, 0, 0))\n",
      "('d8DuwmsP9lOFrxli6PW-nA', datetime.datetime(2008, 10, 26, 0, 0), datetime.datetime(2006, 4, 6, 0, 0))\n",
      "('d9yxPv0W9FXjrymSbJAnDA', datetime.datetime(2013, 9, 18, 0, 0), datetime.datetime(2011, 3, 4, 0, 0))\n",
      "('DfwqwUN4IImK_fhjRuoRAQ', datetime.datetime(2015, 2, 22, 0, 0), datetime.datetime(2013, 7, 14, 0, 0))\n",
      "('dugjJOUSu8JQuEdqZxP3zg', datetime.datetime(2015, 2, 12, 0, 0), datetime.datetime(2009, 3, 8, 0, 0))\n",
      "('D_Tw9-rCZ0tdrumEuWPAMQ', datetime.datetime(2014, 7, 16, 0, 0), datetime.datetime(2014, 4, 27, 0, 0))\n",
      "('e1zXQLxZlotxctt8IlFfVg', datetime.datetime(2015, 2, 12, 0, 0), datetime.datetime(2014, 1, 14, 0, 0))\n",
      "('E4qETxs9Hh-182DfTXSLTQ', datetime.datetime(2006, 12, 3, 0, 0), datetime.datetime(2006, 11, 29, 0, 0))\n",
      "('echbwYzLvN5VstBmh07sZw', datetime.datetime(2013, 11, 24, 0, 0), datetime.datetime(2013, 9, 24, 0, 0))\n",
      "('eLWbqP7SVV23ZX2EUAG-hg', datetime.datetime(2010, 7, 22, 0, 0), datetime.datetime(2010, 1, 24, 0, 0))\n",
      "('eqvWF5kWAgpGbtiGK71gvQ', datetime.datetime(2013, 10, 19, 0, 0), datetime.datetime(2013, 9, 14, 0, 0))\n",
      "('f4YvUim5oWB4n0SyWAjnHA', datetime.datetime(2013, 11, 18, 0, 0), datetime.datetime(2012, 9, 12, 0, 0))\n",
      "('Fa2kFXb4j-GLrHCP5Eq_wQ', datetime.datetime(2013, 11, 18, 0, 0), datetime.datetime(2013, 10, 12, 0, 0))\n",
      "('fVVv0Hgdp67BmoslfBisiQ', datetime.datetime(2013, 10, 21, 0, 0), datetime.datetime(2013, 9, 14, 0, 0))\n",
      "('FW-eSBq2oYLV1mugfoFyLA', datetime.datetime(2013, 10, 22, 0, 0), datetime.datetime(2013, 8, 29, 0, 0))\n",
      "('fZYVe-qQSh28xzZRGtzwfA', datetime.datetime(2007, 9, 11, 0, 0), datetime.datetime(2005, 11, 16, 0, 0))\n",
      "('GDxxAMV-QgLOIJ7_h37mKg', datetime.datetime(2015, 2, 22, 0, 0), datetime.datetime(2013, 4, 7, 0, 0))\n",
      "('gGdg9LOh61iUX1ui6suS0w', datetime.datetime(2013, 11, 25, 0, 0), datetime.datetime(2013, 8, 27, 0, 0))\n",
      "('Gh-pqnqQ4r4TQUbjfOKR2A', datetime.datetime(2015, 2, 23, 0, 0), datetime.datetime(2014, 12, 1, 0, 0))\n",
      "('gpD49NrRlyexuG1Y8R25pA', datetime.datetime(2013, 10, 28, 0, 0), datetime.datetime(2013, 9, 2, 0, 0))\n",
      "('gssp-mEpTOnk3yqkuyZ3XA', datetime.datetime(2015, 2, 12, 0, 0), datetime.datetime(2012, 11, 11, 0, 0))\n",
      "('gXJubmUvf-0pUy3BAZFgog', datetime.datetime(2008, 10, 15, 0, 0), datetime.datetime(2007, 11, 7, 0, 0))\n",
      "('h4FWjawsNegEXMDQ4OjKAg', datetime.datetime(2013, 11, 1, 0, 0), datetime.datetime(2013, 10, 6, 0, 0))\n",
      "('H77KMA4QFFZrhWUtjCBdqw', datetime.datetime(2015, 2, 17, 0, 0), datetime.datetime(2007, 5, 16, 0, 0))\n",
      "('hgfaqJzutMwz_VL-7jwfqg', datetime.datetime(2013, 12, 4, 0, 0), datetime.datetime(2013, 10, 23, 0, 0))\n",
      "('HKGUUGzZ0TI1Vc8xoN-bqQ', datetime.datetime(2013, 9, 18, 0, 0), datetime.datetime(2010, 10, 5, 0, 0))\n",
      "('hw1Qvv-DG7cRPo7PqjQUBw', datetime.datetime(2013, 9, 28, 0, 0), datetime.datetime(2011, 5, 27, 0, 0))\n",
      "('Hx7dVqWMV9pEtmp6S-PnIQ', datetime.datetime(2013, 9, 18, 0, 0), datetime.datetime(2011, 2, 19, 0, 0))\n",
      "('hXJEuM4CApBD83etUy2S0Q', datetime.datetime(2013, 5, 9, 0, 0), datetime.datetime(2009, 8, 27, 0, 0))\n",
      "('i5oV55_jYZ6dXjwHH_qxJQ', datetime.datetime(2015, 2, 13, 0, 0), datetime.datetime(2010, 7, 26, 0, 0))\n",
      "('iA8GvgNFZHtuDSQOlMQKTA', datetime.datetime(2014, 2, 19, 0, 0), datetime.datetime(2011, 3, 20, 0, 0))\n",
      "('InrQUl075E_7ME0JTecQzQ', datetime.datetime(2015, 2, 13, 0, 0), datetime.datetime(2015, 2, 8, 0, 0))\n",
      "('Ir2kIf9nM-4CcNGxvwzbsg', datetime.datetime(2015, 2, 12, 0, 0), datetime.datetime(2014, 11, 29, 0, 0))\n",
      "('iviOuHCbcr2j6tU1ekORHg', datetime.datetime(2014, 11, 9, 0, 0), datetime.datetime(2010, 2, 12, 0, 0))\n",
      "('IYtCO_CPKsq6brOr_KBlzw', datetime.datetime(2007, 9, 15, 0, 0), datetime.datetime(2006, 11, 6, 0, 0))\n",
      "('IzHmatSdasq94K8kBVuXSA', datetime.datetime(2015, 2, 14, 0, 0), datetime.datetime(2013, 3, 9, 0, 0))\n",
      "('j28i-n5Be44Pnk21QzINkw', datetime.datetime(2013, 11, 11, 0, 0), datetime.datetime(2013, 9, 11, 0, 0))\n",
      "('J2iDPxlLratTmfxUfFOhzA', datetime.datetime(2013, 9, 13, 0, 0), datetime.datetime(2013, 9, 10, 0, 0))\n",
      "('j2PiODYN-OnSvv3_24APmg', datetime.datetime(2013, 11, 4, 0, 0), datetime.datetime(2013, 8, 27, 0, 0))\n",
      "('JA-gdOUbxEdUAdvPkWhtfg', datetime.datetime(2013, 10, 12, 0, 0), datetime.datetime(2013, 9, 16, 0, 0))\n",
      "('jbaqTHU4qaLDDudIek3QuA', datetime.datetime(2015, 2, 13, 0, 0), datetime.datetime(2015, 1, 30, 0, 0))\n",
      "('JPY8TM7H3VTjSTv2d6WOdA', datetime.datetime(2013, 11, 5, 0, 0), datetime.datetime(2013, 9, 21, 0, 0))\n",
      "('jr96eHiW-f5GZyJBZItdDg', datetime.datetime(2013, 10, 22, 0, 0), datetime.datetime(2013, 9, 22, 0, 0))\n",
      "('k-NKtGclQ74KQY3juwU1ag', datetime.datetime(2013, 10, 21, 0, 0), datetime.datetime(2013, 10, 3, 0, 0))\n",
      "('k2xwh5-sm-1rjKxXqo1k2w', datetime.datetime(2015, 2, 12, 0, 0), datetime.datetime(2010, 5, 11, 0, 0))\n",
      "('KhIUtKatwUUt6zXhPH3KiA', datetime.datetime(2014, 10, 27, 0, 0), datetime.datetime(2013, 5, 31, 0, 0))\n",
      "('KIfOD6ilrb9FIH17PL5rkQ', datetime.datetime(2013, 9, 18, 0, 0), datetime.datetime(2011, 12, 1, 0, 0))\n",
      "('kK9wmzu-m8t6NrcFGogwGQ', datetime.datetime(2013, 10, 21, 0, 0), datetime.datetime(2013, 9, 8, 0, 0))\n",
      "('kl_vUfPWdcH1uLCPZTlFiQ', datetime.datetime(2013, 10, 24, 0, 0), datetime.datetime(2013, 10, 23, 0, 0))\n",
      "('kw3IjuaArmYTO4hdflxz8A', datetime.datetime(2013, 10, 27, 0, 0), datetime.datetime(2011, 10, 10, 0, 0))\n",
      "('Ky426QxOSlzgTYQxCzmHDw', datetime.datetime(2013, 10, 22, 0, 0), datetime.datetime(2013, 9, 4, 0, 0))\n",
      "('le_brG6cwrzvWdKEGqA7YA', datetime.datetime(2008, 12, 1, 0, 0), datetime.datetime(2004, 7, 22, 0, 0))\n",
      "('LjhDPZgclfHV9Ig4tb8wyg', datetime.datetime(2013, 10, 19, 0, 0), datetime.datetime(2013, 10, 13, 0, 0))\n",
      "('m-DP1PnsKBUsOASGSIGwKg', datetime.datetime(2006, 9, 14, 0, 0), datetime.datetime(2006, 8, 31, 0, 0))\n",
      "('m7Qn5A9hzdQ8tEqkVY-eUQ', datetime.datetime(2013, 10, 21, 0, 0), datetime.datetime(2013, 8, 27, 0, 0))\n",
      "('Mba4-Rj1AwYohj0e_anpCQ', datetime.datetime(2006, 8, 10, 0, 0), datetime.datetime(2006, 8, 8, 0, 0))\n",
      "('MbGkm2SpMxe9CzNHUz8YZg', datetime.datetime(2012, 12, 16, 0, 0), datetime.datetime(2011, 9, 15, 0, 0))\n",
      "('MDfqgFJ8Zb_XPk17pW00Ng', datetime.datetime(2013, 11, 18, 0, 0), datetime.datetime(2013, 10, 18, 0, 0))\n",
      "('mhLHb-g0NGXXBl42UyTBkw', datetime.datetime(2009, 8, 29, 0, 0), datetime.datetime(2006, 12, 18, 0, 0))\n",
      "('mlShYmbG0PTRal5s7OeyrA', datetime.datetime(2015, 2, 17, 0, 0), datetime.datetime(2010, 10, 27, 0, 0))\n",
      "('mv-d7aPAWLe-UyT2k_Z4xQ', datetime.datetime(2011, 9, 22, 0, 0), datetime.datetime(2010, 8, 26, 0, 0))\n",
      "('mxwqbB5OBlKMO1pTP117xg', datetime.datetime(2013, 11, 5, 0, 0), datetime.datetime(2013, 9, 1, 0, 0))\n",
      "('n0UI_NSYIOdExFTsPGHltA', datetime.datetime(2015, 2, 12, 0, 0), datetime.datetime(2013, 12, 2, 0, 0))\n",
      "('N2qQymKn8hiXbJrWdf3yNw', datetime.datetime(2013, 8, 6, 0, 0), datetime.datetime(2012, 10, 16, 0, 0))\n",
      "('nD-jmtxTaLuimmYpwlQ3ZQ', datetime.datetime(2013, 8, 22, 0, 0), datetime.datetime(2011, 6, 5, 0, 0))\n",
      "('niVkKCrDD7HARKA2BATN1Q', datetime.datetime(2013, 10, 22, 0, 0), datetime.datetime(2013, 10, 12, 0, 0))\n",
      "('NLHflKfUPcVA71vN8LmiWQ', datetime.datetime(2013, 10, 21, 0, 0), datetime.datetime(2013, 9, 2, 0, 0))\n",
      "('NNb9yz4cMJ0OuNyZP-wERA', datetime.datetime(2013, 9, 18, 0, 0), datetime.datetime(2011, 7, 10, 0, 0))\n",
      "('NR5KP8WQPNh_wqxOydu5AA', datetime.datetime(2015, 2, 14, 0, 0), datetime.datetime(2014, 6, 11, 0, 0))\n",
      "('odBwZDLDm8E_cRnjdBOo0w', datetime.datetime(2015, 2, 12, 0, 0), datetime.datetime(2008, 12, 18, 0, 0))\n",
      "('p9f2JDPiSvhkRHbqeOae5Q', datetime.datetime(2015, 2, 12, 0, 0), datetime.datetime(2011, 10, 3, 0, 0))\n",
      "('PQQ8X2P2qDj23ycojaEyhg', datetime.datetime(2013, 10, 21, 0, 0), datetime.datetime(2012, 3, 10, 0, 0))\n",
      "('q8VqwteFtf85mCgT30X8XQ', datetime.datetime(2009, 6, 28, 0, 0), datetime.datetime(2006, 11, 22, 0, 0))\n",
      "('QAO4L6rAAyHUdHhqbj03Xg', datetime.datetime(2013, 3, 15, 0, 0), datetime.datetime(2011, 3, 12, 0, 0))\n",
      "('qcXd6YPcOcMGV9mwSR4HlQ', datetime.datetime(2013, 11, 5, 0, 0), datetime.datetime(2013, 9, 11, 0, 0))\n",
      "('qc_GGmPonDohazGDayEdaA', datetime.datetime(2014, 10, 31, 0, 0), datetime.datetime(2014, 8, 13, 0, 0))\n",
      "('qdThrtl1CRRnN5O18war6Q', datetime.datetime(2013, 10, 21, 0, 0), datetime.datetime(2013, 10, 20, 0, 0))\n",
      "('R4I4CudSFwQEvT7b-9zf9A', datetime.datetime(2015, 2, 12, 0, 0), datetime.datetime(2010, 3, 17, 0, 0))\n",
      "('RCn1Ov8Gc1izejQ7ajrphw', datetime.datetime(2007, 1, 23, 0, 0), datetime.datetime(2007, 1, 22, 0, 0))\n",
      "('renx4bbdhSQUABq5Nt296g', datetime.datetime(2013, 9, 18, 0, 0), datetime.datetime(2012, 10, 26, 0, 0))\n",
      "('rEspYozUnHKnAugf9aF07g', datetime.datetime(2013, 9, 19, 0, 0), datetime.datetime(2009, 5, 22, 0, 0))\n",
      "('RtmStbS-d0Pxzr1erm9VQA', datetime.datetime(2015, 2, 13, 0, 0), datetime.datetime(2010, 10, 31, 0, 0))\n",
      "('si_A7qmgctZqqNvG0ChHKA', datetime.datetime(2013, 10, 18, 0, 0), datetime.datetime(2013, 8, 30, 0, 0))\n",
      "('Sllw8sG-ywXYE7oKRvtV8w', datetime.datetime(2013, 10, 20, 0, 0), datetime.datetime(2013, 10, 4, 0, 0))\n",
      "('t6bt16BJylgQFH5tbh6Icw', datetime.datetime(2015, 2, 12, 0, 0), datetime.datetime(2012, 10, 13, 0, 0))\n",
      "('TBuS5H1QdXHhcOhJy1ey_w', datetime.datetime(2015, 2, 23, 0, 0), datetime.datetime(2011, 5, 2, 0, 0))\n",
      "('TC8HpxgFVGyd3W_j6LLLpw', datetime.datetime(2013, 10, 23, 0, 0), datetime.datetime(2013, 9, 16, 0, 0))\n",
      "('TJbTDAABLcjZdVU63INGtQ', datetime.datetime(2007, 9, 8, 0, 0), datetime.datetime(2007, 5, 19, 0, 0))\n",
      "('tM246FKFPW9XDrly95U0zg', datetime.datetime(2015, 2, 14, 0, 0), datetime.datetime(2014, 4, 11, 0, 0))\n",
      "('TNOawJ5EBL8PRBN5_Rwa4A', datetime.datetime(2012, 12, 3, 0, 0), datetime.datetime(2008, 1, 10, 0, 0))\n",
      "('ttMmlIX5LCWYjmR5K9-Iyg', datetime.datetime(2013, 10, 22, 0, 0), datetime.datetime(2013, 9, 1, 0, 0))\n",
      "('TUfO0LmgN6pfaoTBMtBReA', datetime.datetime(2013, 10, 27, 0, 0), datetime.datetime(2013, 8, 28, 0, 0))\n",
      "('txzOZrHK9EVY0kYjSuXkKg', datetime.datetime(2013, 9, 3, 0, 0), datetime.datetime(2013, 8, 14, 0, 0))\n",
      "('u3SFrx4FwNBw7Hq6mNfTHw', datetime.datetime(2012, 1, 17, 0, 0), datetime.datetime(2011, 2, 13, 0, 0))\n",
      "('UcaMATdb52cdVr8qdA8ssw', datetime.datetime(2015, 2, 19, 0, 0), datetime.datetime(2010, 5, 27, 0, 0))\n",
      "('umASVgpedaN60WDiRzRhIQ', datetime.datetime(2013, 7, 17, 0, 0), datetime.datetime(2013, 4, 9, 0, 0))\n",
      "('UohG9LzgEp15QG2rYB7a3Q', datetime.datetime(2013, 9, 18, 0, 0), datetime.datetime(2012, 8, 11, 0, 0))\n",
      "('uTFfsUbTRzGLUmPY-E8N1g', datetime.datetime(2015, 2, 13, 0, 0), datetime.datetime(2014, 7, 15, 0, 0))\n",
      "('UxJoAZNUk2EyTKp6Fnt6Vw', datetime.datetime(2013, 9, 18, 0, 0), datetime.datetime(2011, 2, 7, 0, 0))\n",
      "('UyJqbGonsyQ9_7ZvM0YSlA', datetime.datetime(2013, 10, 22, 0, 0), datetime.datetime(2013, 10, 14, 0, 0))\n",
      "('va0pXWNxrTyU_bTptGDLhw', datetime.datetime(2015, 2, 12, 0, 0), datetime.datetime(2008, 1, 3, 0, 0))\n",
      "('VfC4Y_t-JRFwcsYwxjMAWw', datetime.datetime(2013, 8, 14, 0, 0), datetime.datetime(2011, 10, 28, 0, 0))\n",
      "('VGLhvBZ11P-jlsEVh4Of6A', datetime.datetime(2007, 12, 3, 0, 0), datetime.datetime(2006, 10, 17, 0, 0))\n",
      "('vlrOB_3aKW_4e6CI3xpSyw', datetime.datetime(2013, 9, 27, 0, 0), datetime.datetime(2013, 8, 15, 0, 0))\n",
      "('vSocfYTTo7VupKO27NKq1g', datetime.datetime(2015, 2, 12, 0, 0), datetime.datetime(2013, 8, 26, 0, 0))\n",
      "('VtfXhhPP8jg1e6S5z4iwbw', datetime.datetime(2013, 10, 20, 0, 0), datetime.datetime(2013, 10, 14, 0, 0))\n",
      "('VY05_ib2r2EMqIHT-ymihg', datetime.datetime(2014, 10, 24, 0, 0), datetime.datetime(2012, 3, 11, 0, 0))\n",
      "('V_4875jYCSsNbuNGrWNt3g', datetime.datetime(2013, 10, 28, 0, 0), datetime.datetime(2013, 10, 20, 0, 0))\n",
      "('WaxgrE1Uawl2Tqs_CbAHLQ', datetime.datetime(2013, 9, 5, 0, 0), datetime.datetime(2011, 7, 25, 0, 0))\n",
      "('WMaGQc3MoES5O4FCw3TuRg', datetime.datetime(2013, 10, 21, 0, 0), datetime.datetime(2013, 9, 16, 0, 0))\n",
      "('w_6miJytUt6z8oRkGjVG-A', datetime.datetime(2007, 10, 15, 0, 0), datetime.datetime(2004, 9, 15, 0, 0))\n",
      "('w_kJSxW49eAT6NdiXJEpsw', datetime.datetime(2013, 9, 18, 0, 0), datetime.datetime(2007, 11, 1, 0, 0))\n",
      "('xdaQl-e82MfG_GSTVudf2Q', datetime.datetime(2014, 10, 24, 0, 0), datetime.datetime(2013, 8, 10, 0, 0))\n",
      "('xHcT5j7QrzcZfuu1Zs4Htg', datetime.datetime(2013, 11, 5, 0, 0), datetime.datetime(2013, 9, 21, 0, 0))\n",
      "('xLeQfa6h2JbDzsurRzfGJg', datetime.datetime(2015, 2, 12, 0, 0), datetime.datetime(2013, 5, 19, 0, 0))\n",
      "('xMElVhxH0PsGoxP51TmLqA', datetime.datetime(2006, 2, 13, 0, 0), datetime.datetime(2005, 12, 15, 0, 0))\n",
      "('xPbQ0r7GtI5_mW4y3coOhQ', datetime.datetime(2015, 2, 15, 0, 0), datetime.datetime(2015, 2, 1, 0, 0))\n",
      "('xUaN99rtaBcruFZL1zu8SQ', datetime.datetime(2013, 11, 22, 0, 0), datetime.datetime(2013, 10, 1, 0, 0))\n",
      "('xZnUs7yzU8iwbmZ5yViqFQ', datetime.datetime(2015, 2, 13, 0, 0), datetime.datetime(2013, 8, 11, 0, 0))\n",
      "('y3PAwLIyM_yMoa6F9VOPIA', datetime.datetime(2013, 9, 18, 0, 0), datetime.datetime(2012, 9, 29, 0, 0))\n",
      "('Y994Ef_uewtCq6JiAbrmpA', datetime.datetime(2007, 10, 8, 0, 0), datetime.datetime(2006, 8, 1, 0, 0))\n",
      "('Yfl7Ufjn8XOqvVVETZzNiw', datetime.datetime(2014, 10, 26, 0, 0), datetime.datetime(2014, 4, 23, 0, 0))\n",
      "('yI4LI8-aYYUS9MmrfpidMQ', datetime.datetime(2013, 9, 18, 0, 0), datetime.datetime(2008, 11, 17, 0, 0))\n",
      "('YobF7OkJQ0B6vmx0DD4s4g', datetime.datetime(2013, 11, 5, 0, 0), datetime.datetime(2013, 9, 19, 0, 0))\n",
      "('YxmaQ92nqhxGTIvMem95CA', datetime.datetime(2013, 10, 19, 0, 0), datetime.datetime(2013, 9, 4, 0, 0))\n",
      "('z2t6saA6kMJkrzgcmS8jIw', datetime.datetime(2015, 2, 16, 0, 0), datetime.datetime(2008, 2, 26, 0, 0))\n",
      "('ZdLzMljwGQ9-yLmbZAk0vQ', datetime.datetime(2013, 10, 22, 0, 0), datetime.datetime(2013, 9, 9, 0, 0))\n",
      "('ZkmKyB9660N9d30GIrBGTQ', datetime.datetime(2013, 9, 18, 0, 0), datetime.datetime(2011, 7, 25, 0, 0))\n",
      "('ZMq2cdaz2BALw9r5Hi48rQ', datetime.datetime(2013, 11, 3, 0, 0), datetime.datetime(2013, 9, 8, 0, 0))\n",
      "('ZQyka6pFaNKdAM7gV7ideA', datetime.datetime(2013, 10, 5, 0, 0), datetime.datetime(2013, 9, 24, 0, 0))\n",
      "('zyjGdwt_KtP3gJgSwk2GUQ', datetime.datetime(2013, 10, 25, 0, 0), datetime.datetime(2013, 10, 4, 0, 0))\n"
     ]
    },
    {
     "data": {
      "text/plain": [
       "[None, None, None, None, None, None, None, None, None, None, None, None, None, None, None, None, None, None, None, None, None, None, None, None, None, None, None, None, None, None, None, None, None, None, None, None, None, None, None, None, None, None, None, None, None, None, None, None, None, None, None, None, None, None, None, None, None, None, None, None, None, None, None, None, None, None, None, None, None, None, None, None, None, None, None, None, None, None, None, None, None, None, None, None, None, None, None, None, None, None, None, None, None, None, None, None, None, None, None, None, None, None, None, None, None, None, None, None, None, None, None, None, None, None, None, None, None, None, None, None, None, None, None, None, None, None, None, None, None, None, None, None, None, None, None, None, None, None, None, None, None, None, None, None, None, None, None, None, None, None, None, None, None, None, None, None, None, None, None, None, None, None, None, None, None, None, None, None, None, None, None, None, None, None, None, None, None, None, None, None, None, None, None, None, None, None, None, None, None, None, None]"
      ]
     },
     "execution_count": 12,
     "metadata": {},
     "output_type": "execute_result"
    }
   ],
   "source": [
    "[print(result) for result in result_2]"
   ]
  },
  {
   "cell_type": "markdown",
   "metadata": {},
   "source": [
    "#### 3. Can't be elite in a year before their account was made"
   ]
  },
  {
   "cell_type": "code",
   "execution_count": 26,
   "metadata": {},
   "outputs": [],
   "source": [
    "query_3 =  \"SELECT user.id, user.yelping_since AS Date_of_yelping, elite_years.year AS Year_of_Elite\\\n",
    "            FROM (user INNER JOIN elite_years ON user.id = elite_years.user_id)\\\n",
    "            WHERE YEAR(user.yelping_since) < elite_years.year\\\n",
    "            GROUP BY user.id;\"\n",
    "\n",
    "result_3 = executeQuery(yelp_conn, query_3)"
   ]
  },
  {
   "cell_type": "code",
   "execution_count": 27,
   "metadata": {},
   "outputs": [
    {
     "data": {
      "text/plain": [
       "55493"
      ]
     },
     "execution_count": 27,
     "metadata": {},
     "output_type": "execute_result"
    }
   ],
   "source": [
    "len(result_3)"
   ]
  },
  {
   "cell_type": "markdown",
   "metadata": {},
   "source": [
    "#### 4. Can't checkin outside open hours"
   ]
  },
  {
   "cell_type": "code",
   "execution_count": 33,
   "metadata": {},
   "outputs": [
    {
     "data": {
      "text/plain": [
       "((480488,),)"
      ]
     },
     "execution_count": 33,
     "metadata": {},
     "output_type": "execute_result"
    }
   ],
   "source": [
    "query_4 = \"SELECT COUNT(*) FROM checkin JOIN (SELECT hours.business_id, SUBSTRING_INDEX(hours, '|', 1)\\\n",
    "           AS day_of_week, SUBSTRING_INDEX(SUBSTRING_INDEX(hours, '|', - 1), '-', 1) AS opening_time,\\\n",
    "           SUBSTRING_INDEX(SUBSTRING_INDEX(hours, '|', - 1), '-', - 1) AS closing_time FROM hours)\\\n",
    "           AS a ON a.business_id = checkin.business_id\\\n",
    "           AND a.day_of_week = SUBSTRING_INDEX(checkin.date, '-', 1)\\\n",
    "           WHERE a.opening_time > SUBSTRING_INDEX(checkin.date, '-', - 1)\\\n",
    "           AND a.closing_time < SUBSTRING_INDEX(checkin.date, '-', - 1);\"\n",
    "result_4 = executeQuery(yelp_conn, query_4)\n",
    "result_4[0]"
   ]
  },
  {
   "cell_type": "markdown",
   "metadata": {},
   "source": [
    "This shows that there are many check ins that occur outside of the businesses open hours which are potentially invalid checkins, but this is not a guarantee because it is possible that the business changed their hours of operation at some point after someone checked in, resulting in the discrepency. \n",
    "\n",
    "This also shows the need within the database for the date column in the checkin and the hours column in the hours table to be normalized by splitting into date, opening time and closing time columns as this would save computation time having to perform substring_index computations on every row."
   ]
  },
  {
   "cell_type": "markdown",
   "metadata": {},
   "source": [
    "#### 5. `User.review_count` cannot be less than the sum of the number of reviews by a user"
   ]
  },
  {
   "cell_type": "code",
   "execution_count": 17,
   "metadata": {},
   "outputs": [
    {
     "name": "stdout",
     "output_type": "stream",
     "text": [
      "(1319,)\n"
     ]
    }
   ],
   "source": [
    "query_5 = \"select count(*) from user join (select count(user_id) as countedReviews, user_id from\\\n",
    "           review group by user_id) as a on a.user_id = user.id where a.countedReviews > review_count;\"\n",
    "result_5 = executeQuery(yelp_conn, query_5)\n",
    "print(result_5[0])"
   ]
  },
  {
   "cell_type": "markdown",
   "metadata": {},
   "source": [
    "This shows that the way Yelp gets the review_count number is potentially flawed since it should never count there being less reviews than the number of reviews provided for each user, unless the dataset that it was acquiring the count from was out of date."
   ]
  },
  {
   "cell_type": "code",
   "execution_count": null,
   "metadata": {},
   "outputs": [],
   "source": []
  }
 ],
 "metadata": {
  "kernelspec": {
   "display_name": "Python 3",
   "language": "python",
   "name": "python3"
  },
  "language_info": {
   "codemirror_mode": {
    "name": "ipython",
    "version": 3
   },
   "file_extension": ".py",
   "mimetype": "text/x-python",
   "name": "python",
   "nbconvert_exporter": "python",
   "pygments_lexer": "ipython3",
   "version": "3.5.2"
  }
 },
 "nbformat": 4,
 "nbformat_minor": 2
}
